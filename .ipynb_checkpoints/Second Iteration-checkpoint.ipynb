{
 "cells": [
  {
   "cell_type": "markdown",
   "metadata": {},
   "source": [
    "We can establish our framework by defining the variables to be used.  We start with the outcome variable, $Y$.  Next, we consider out treatment variable, $A_k$, which takes on value 1 if there is treatment, and is 0 otherwise.  To begin, we will use treatment strategies that are exclusively treatment or exclusively no treatment, corresponding to $\\overline{a} = (1,1,\\dots,1) = \\overline{1}$ and $\\overline{a} = (0,0,\\dots,0) = \\overline{0}$ respectively.  The next measurable variable is $L$, which represents the covariate(s) to be included.  Note that both the covariates, $L$, and the outcome, $Y$ are affected by an unmeasured common cause, $U$.  The diagram below illustrates these relationships.  \n",
    "\n",
    "![title](image3.png)"
   ]
  },
  {
   "cell_type": "markdown",
   "metadata": {},
   "source": [
    "The purpose of this investigation is to measure the average causal effect of treatment, which can be estimated using \n",
    "$$ \\mathbb{E}\\big[Y^{a=1}\\big] - \\mathbb{E}\\big[Y^{a=0}\\big]$$ "
   ]
  },
  {
   "cell_type": "markdown",
   "metadata": {},
   "source": [
    "We want to build out the g-formula as follows  \n",
    "$$ \\mathbb{E} \\big[Y_{i}^{\\overline{a}}\\big]  = \\sum_{i} \\mathbb{E} \\big[Y_i \\mid A_{i-1} = a_{i-1},  \\; A_{i-2} = a_{i-2}, \\; L_{i-1}, \\; L_{i-2} \\big]$$ \n",
    "\n",
    "We can do this by building out two models, one for $Y$ And one for $L$.  We will begin by using a continous $Y$ and a binary $L$ for simplicity.  \n",
    "\n",
    "For $Y$, we will use a linear regression for a time delay of t=2.  The model will look something like this \n",
    "\n",
    "$$\\mathbb{E} \\big[Y_{t+1} \\mid \\overline{A}_t, \\overline{L}_t, \\overline{Y}_t \\big] = \\theta_{0,t} + \\theta_1 Y_{t} + \\theta_2 Y_{t-1} + \\theta_3 A_{t}+ \\theta_4 A_{t-1} + \\theta_5 L_t + \\theta_6 L_{t-1} $$ \n",
    "\n",
    "For each $L$, we will use a logistic regression, also calculated on a time delay of t=2.  This will give us something similar to \n",
    "$$ logistP\\big[L_{t+1} \\mid \\overline{A}_t, \\overline{L}_t, \\overline{Y}_{t+1} \\big] = \\alpha_{0,t} + \\alpha_1 Y_{t+1} + \\alpha_2 Y_{t} + \\alpha_3 Y_{t-1} +  \\alpha_4 A_{t}+ \\alpha_5 A_{t-1} + \\alpha_6 L_t + \\alpha_7 L_{t-1} $$ \n",
    "\n",
    "\n",
    "<!---what quadratic time term needed to be added here? --->"
   ]
  },
  {
   "cell_type": "markdown",
   "metadata": {},
   "source": [
    "We first need to simulate the data. We will build out the covariates of the population.  For simplicity, we will use two binary covariates, $L_1$ and $L_2$.  Given a population of size $n$, we will assign probabilities as depicted in the image below.  \n",
    "\n",
    "![title](image2.png)\n",
    "\n",
    "Using these assigned covariates, we can also randomly assign treatment or not for $A$, for the entire population.  Then, using this information together, we can simulate the outcomes, $Y_{i,t}$ for the population.  "
   ]
  },
  {
   "cell_type": "code",
   "execution_count": 2,
   "metadata": {
    "collapsed": false
   },
   "outputs": [],
   "source": [
    "import pandas as pd\n",
    "import numpy as np\n",
    "import scipy as sp\n",
    "import sklearn as sk\n",
    "import math\n",
    "import csv\n",
    "import statsmodels.api as sm\n",
    "import statsmodels.formula.api as smf"
   ]
  },
  {
   "cell_type": "markdown",
   "metadata": {},
   "source": []
  },
  {
   "cell_type": "code",
   "execution_count": 11,
   "metadata": {
    "collapsed": false
   },
   "outputs": [
    {
     "name": "stdout",
     "output_type": "stream",
     "text": [
      "1.0\n"
     ]
    },
    {
     "ename": "ValueError",
     "evalue": "Wrong number of items passed 2, placement implies 1",
     "output_type": "error",
     "traceback": [
      "\u001b[0;31m---------------------------------------------------------------------------\u001b[0m",
      "\u001b[0;31mValueError\u001b[0m                                Traceback (most recent call last)",
      "\u001b[0;32m<ipython-input-11-3e6a2b334586>\u001b[0m in \u001b[0;36m<module>\u001b[0;34m()\u001b[0m\n\u001b[1;32m     50\u001b[0m             \u001b[0mL1\u001b[0m \u001b[0;34m=\u001b[0m \u001b[0mnp\u001b[0m\u001b[0;34m.\u001b[0m\u001b[0mrandom\u001b[0m\u001b[0;34m.\u001b[0m\u001b[0mbinomial\u001b[0m\u001b[0;34m(\u001b[0m\u001b[0mn\u001b[0m\u001b[0;34m=\u001b[0m\u001b[0;36m1\u001b[0m\u001b[0;34m,\u001b[0m \u001b[0mp\u001b[0m \u001b[0;34m=\u001b[0m \u001b[0mnp\u001b[0m\u001b[0;34m.\u001b[0m\u001b[0mexp\u001b[0m\u001b[0;34m(\u001b[0m\u001b[0mx_L\u001b[0m\u001b[0;34m)\u001b[0m\u001b[0;34m/\u001b[0m\u001b[0;34m(\u001b[0m\u001b[0;36m1\u001b[0m\u001b[0;34m+\u001b[0m\u001b[0mnp\u001b[0m\u001b[0;34m.\u001b[0m\u001b[0mexp\u001b[0m\u001b[0;34m(\u001b[0m\u001b[0mx_L\u001b[0m\u001b[0;34m)\u001b[0m\u001b[0;34m)\u001b[0m\u001b[0;34m)\u001b[0m\u001b[0;34m\u001b[0m\u001b[0m\n\u001b[1;32m     51\u001b[0m \u001b[0;34m\u001b[0m\u001b[0m\n\u001b[0;32m---> 52\u001b[0;31m             \u001b[0mx_A\u001b[0m \u001b[0;34m=\u001b[0m \u001b[0mbeta_0\u001b[0m \u001b[0;34m+\u001b[0m \u001b[0mbeta_1\u001b[0m\u001b[0;34m*\u001b[0m\u001b[0mL1\u001b[0m \u001b[0;34m+\u001b[0m \u001b[0mbeta_2\u001b[0m\u001b[0;34m*\u001b[0m\u001b[0mdf\u001b[0m\u001b[0;34m[\u001b[0m\u001b[0;34m\"L1\"\u001b[0m\u001b[0;34m]\u001b[0m\u001b[0;34m[\u001b[0m\u001b[0;34m(\u001b[0m\u001b[0mdf\u001b[0m\u001b[0;34m.\u001b[0m\u001b[0mtime\u001b[0m \u001b[0;34m==\u001b[0m \u001b[0mjj\u001b[0m\u001b[0;34m-\u001b[0m\u001b[0;36m1\u001b[0m\u001b[0;34m)\u001b[0m \u001b[0;34m&\u001b[0m \u001b[0;34m(\u001b[0m\u001b[0mdf\u001b[0m\u001b[0;34m.\u001b[0m\u001b[0mindiv\u001b[0m \u001b[0;34m==\u001b[0m \u001b[0mii\u001b[0m\u001b[0;34m)\u001b[0m\u001b[0;34m]\u001b[0m\u001b[0;34m+\u001b[0m \u001b[0mbeta_3\u001b[0m\u001b[0;34m*\u001b[0m\u001b[0mdf\u001b[0m\u001b[0;34m[\u001b[0m\u001b[0;34m\"A\"\u001b[0m\u001b[0;34m]\u001b[0m\u001b[0;34m[\u001b[0m\u001b[0;34m(\u001b[0m\u001b[0mdf\u001b[0m\u001b[0;34m.\u001b[0m\u001b[0mtime\u001b[0m \u001b[0;34m==\u001b[0m \u001b[0mjj\u001b[0m\u001b[0;34m-\u001b[0m\u001b[0;36m1\u001b[0m\u001b[0;34m)\u001b[0m \u001b[0;34m&\u001b[0m \u001b[0;34m(\u001b[0m\u001b[0mdf\u001b[0m\u001b[0;34m.\u001b[0m\u001b[0mindiv\u001b[0m \u001b[0;34m==\u001b[0m \u001b[0mii\u001b[0m\u001b[0;34m)\u001b[0m\u001b[0;34m]\u001b[0m\u001b[0;34m+\u001b[0m \u001b[0mbeta_4\u001b[0m\u001b[0;34m*\u001b[0m\u001b[0mdf\u001b[0m\u001b[0;34m[\u001b[0m\u001b[0;34m\"A\"\u001b[0m\u001b[0;34m]\u001b[0m\u001b[0;34m[\u001b[0m\u001b[0;34m(\u001b[0m\u001b[0mdf\u001b[0m\u001b[0;34m.\u001b[0m\u001b[0mtime\u001b[0m \u001b[0;34m==\u001b[0m \u001b[0mjj\u001b[0m\u001b[0;34m-\u001b[0m\u001b[0;36m2\u001b[0m\u001b[0;34m)\u001b[0m \u001b[0;34m&\u001b[0m \u001b[0;34m(\u001b[0m\u001b[0mdf\u001b[0m\u001b[0;34m.\u001b[0m\u001b[0mindiv\u001b[0m \u001b[0;34m==\u001b[0m \u001b[0mii\u001b[0m\u001b[0;34m)\u001b[0m\u001b[0;34m]\u001b[0m\u001b[0;34m\u001b[0m\u001b[0m\n\u001b[0m\u001b[1;32m     53\u001b[0m             \u001b[0mA\u001b[0m \u001b[0;34m=\u001b[0m \u001b[0mnp\u001b[0m\u001b[0;34m.\u001b[0m\u001b[0mrandom\u001b[0m\u001b[0;34m.\u001b[0m\u001b[0mbinomial\u001b[0m\u001b[0;34m(\u001b[0m\u001b[0mn\u001b[0m\u001b[0;34m=\u001b[0m\u001b[0;36m1\u001b[0m\u001b[0;34m,\u001b[0m \u001b[0mp\u001b[0m \u001b[0;34m=\u001b[0m \u001b[0mnp\u001b[0m\u001b[0;34m.\u001b[0m\u001b[0mexp\u001b[0m\u001b[0;34m(\u001b[0m\u001b[0mx_A\u001b[0m\u001b[0;34m)\u001b[0m\u001b[0;34m/\u001b[0m\u001b[0;34m(\u001b[0m\u001b[0;36m1\u001b[0m\u001b[0;34m+\u001b[0m\u001b[0mnp\u001b[0m\u001b[0;34m.\u001b[0m\u001b[0mexp\u001b[0m\u001b[0;34m(\u001b[0m\u001b[0mx_A\u001b[0m\u001b[0;34m)\u001b[0m\u001b[0;34m)\u001b[0m\u001b[0;34m)\u001b[0m\u001b[0;34m\u001b[0m\u001b[0m\n\u001b[1;32m     54\u001b[0m \u001b[0;34m\u001b[0m\u001b[0m\n",
      "\u001b[0;32m/Users/morganfbreitmeyer/anaconda/envs/py3k/lib/python3.5/site-packages/pandas/core/ops.py\u001b[0m in \u001b[0;36mwrapper\u001b[0;34m(left, right, name, na_op)\u001b[0m\n\u001b[1;32m    651\u001b[0m             return left._constructor(wrap_results(na_op(lvalues, rvalues)),\n\u001b[1;32m    652\u001b[0m                                      \u001b[0mindex\u001b[0m\u001b[0;34m=\u001b[0m\u001b[0mleft\u001b[0m\u001b[0;34m.\u001b[0m\u001b[0mindex\u001b[0m\u001b[0;34m,\u001b[0m \u001b[0mname\u001b[0m\u001b[0;34m=\u001b[0m\u001b[0mleft\u001b[0m\u001b[0;34m.\u001b[0m\u001b[0mname\u001b[0m\u001b[0;34m,\u001b[0m\u001b[0;34m\u001b[0m\u001b[0m\n\u001b[0;32m--> 653\u001b[0;31m                                      dtype=dtype)\n\u001b[0m\u001b[1;32m    654\u001b[0m \u001b[0;34m\u001b[0m\u001b[0m\n\u001b[1;32m    655\u001b[0m     \u001b[0;32mreturn\u001b[0m \u001b[0mwrapper\u001b[0m\u001b[0;34m\u001b[0m\u001b[0m\n",
      "\u001b[0;32m/Users/morganfbreitmeyer/anaconda/envs/py3k/lib/python3.5/site-packages/pandas/core/series.py\u001b[0m in \u001b[0;36m__init__\u001b[0;34m(self, data, index, dtype, name, copy, fastpath)\u001b[0m\n\u001b[1;32m    227\u001b[0m                                        raise_cast_failure=True)\n\u001b[1;32m    228\u001b[0m \u001b[0;34m\u001b[0m\u001b[0m\n\u001b[0;32m--> 229\u001b[0;31m                 \u001b[0mdata\u001b[0m \u001b[0;34m=\u001b[0m \u001b[0mSingleBlockManager\u001b[0m\u001b[0;34m(\u001b[0m\u001b[0mdata\u001b[0m\u001b[0;34m,\u001b[0m \u001b[0mindex\u001b[0m\u001b[0;34m,\u001b[0m \u001b[0mfastpath\u001b[0m\u001b[0;34m=\u001b[0m\u001b[0;32mTrue\u001b[0m\u001b[0;34m)\u001b[0m\u001b[0;34m\u001b[0m\u001b[0m\n\u001b[0m\u001b[1;32m    230\u001b[0m \u001b[0;34m\u001b[0m\u001b[0m\n\u001b[1;32m    231\u001b[0m         \u001b[0mgeneric\u001b[0m\u001b[0;34m.\u001b[0m\u001b[0mNDFrame\u001b[0m\u001b[0;34m.\u001b[0m\u001b[0m__init__\u001b[0m\u001b[0;34m(\u001b[0m\u001b[0mself\u001b[0m\u001b[0;34m,\u001b[0m \u001b[0mdata\u001b[0m\u001b[0;34m,\u001b[0m \u001b[0mfastpath\u001b[0m\u001b[0;34m=\u001b[0m\u001b[0;32mTrue\u001b[0m\u001b[0;34m)\u001b[0m\u001b[0;34m\u001b[0m\u001b[0m\n",
      "\u001b[0;32m/Users/morganfbreitmeyer/anaconda/envs/py3k/lib/python3.5/site-packages/pandas/core/internals.py\u001b[0m in \u001b[0;36m__init__\u001b[0;34m(self, block, axis, do_integrity_check, fastpath)\u001b[0m\n\u001b[1;32m   3815\u001b[0m         \u001b[0;32mif\u001b[0m \u001b[0;32mnot\u001b[0m \u001b[0misinstance\u001b[0m\u001b[0;34m(\u001b[0m\u001b[0mblock\u001b[0m\u001b[0;34m,\u001b[0m \u001b[0mBlock\u001b[0m\u001b[0;34m)\u001b[0m\u001b[0;34m:\u001b[0m\u001b[0;34m\u001b[0m\u001b[0m\n\u001b[1;32m   3816\u001b[0m             block = make_block(block, placement=slice(0, len(axis)), ndim=1,\n\u001b[0;32m-> 3817\u001b[0;31m                                fastpath=True)\n\u001b[0m\u001b[1;32m   3818\u001b[0m \u001b[0;34m\u001b[0m\u001b[0m\n\u001b[1;32m   3819\u001b[0m         \u001b[0mself\u001b[0m\u001b[0;34m.\u001b[0m\u001b[0mblocks\u001b[0m \u001b[0;34m=\u001b[0m \u001b[0;34m[\u001b[0m\u001b[0mblock\u001b[0m\u001b[0;34m]\u001b[0m\u001b[0;34m\u001b[0m\u001b[0m\n",
      "\u001b[0;32m/Users/morganfbreitmeyer/anaconda/envs/py3k/lib/python3.5/site-packages/pandas/core/internals.py\u001b[0m in \u001b[0;36mmake_block\u001b[0;34m(values, placement, klass, ndim, dtype, fastpath)\u001b[0m\n\u001b[1;32m   2516\u001b[0m                      placement=placement, dtype=dtype)\n\u001b[1;32m   2517\u001b[0m \u001b[0;34m\u001b[0m\u001b[0m\n\u001b[0;32m-> 2518\u001b[0;31m     \u001b[0;32mreturn\u001b[0m \u001b[0mklass\u001b[0m\u001b[0;34m(\u001b[0m\u001b[0mvalues\u001b[0m\u001b[0;34m,\u001b[0m \u001b[0mndim\u001b[0m\u001b[0;34m=\u001b[0m\u001b[0mndim\u001b[0m\u001b[0;34m,\u001b[0m \u001b[0mfastpath\u001b[0m\u001b[0;34m=\u001b[0m\u001b[0mfastpath\u001b[0m\u001b[0;34m,\u001b[0m \u001b[0mplacement\u001b[0m\u001b[0;34m=\u001b[0m\u001b[0mplacement\u001b[0m\u001b[0;34m)\u001b[0m\u001b[0;34m\u001b[0m\u001b[0m\n\u001b[0m\u001b[1;32m   2519\u001b[0m \u001b[0;34m\u001b[0m\u001b[0m\n\u001b[1;32m   2520\u001b[0m \u001b[0;31m# TODO: flexible with index=None and/or items=None\u001b[0m\u001b[0;34m\u001b[0m\u001b[0;34m\u001b[0m\u001b[0m\n",
      "\u001b[0;32m/Users/morganfbreitmeyer/anaconda/envs/py3k/lib/python3.5/site-packages/pandas/core/internals.py\u001b[0m in \u001b[0;36m__init__\u001b[0;34m(self, values, placement, ndim, fastpath)\u001b[0m\n\u001b[1;32m     88\u001b[0m             raise ValueError('Wrong number of items passed %d, placement '\n\u001b[1;32m     89\u001b[0m                              'implies %d' % (len(self.values),\n\u001b[0;32m---> 90\u001b[0;31m                                              len(self.mgr_locs)))\n\u001b[0m\u001b[1;32m     91\u001b[0m \u001b[0;34m\u001b[0m\u001b[0m\n\u001b[1;32m     92\u001b[0m     \u001b[0;34m@\u001b[0m\u001b[0mproperty\u001b[0m\u001b[0;34m\u001b[0m\u001b[0m\n",
      "\u001b[0;31mValueError\u001b[0m: Wrong number of items passed 2, placement implies 1"
     ]
    }
   ],
   "source": [
    "## establishing constants \n",
    "indiv = 100   ## number of individuals in study \n",
    "# p1 = 0.75   ## probability of having covariate trait 1 \n",
    "# p2 = 0.75  ## probability of having covariate trait 2\n",
    "# pA = 0.5   ## probability of receiving treatment  \n",
    "alpha_0 = 2\n",
    "alpha_1 = 0.75\n",
    "alpha_2 = 2.5\n",
    "alpha_3 = -3.33\n",
    "alpha_4 = 1.72\n",
    "beta_0 = 6\n",
    "beta_1 = 2.6\n",
    "beta_2 = 0.3\n",
    "beta_3 = 1.5\n",
    "beta_4 = -3.9\n",
    "\n",
    "time = 10 ## number of time points being considered \n",
    "# t_delay = 2 ## number of time delays included in model \n",
    "\n",
    "## building out simulated data \n",
    "columns = [\"indiv\", \"time\", \"A\", \"Y\", \"U\", \"L1\"]\n",
    "## columns = [\"indiv\", \"time\", \"A\", \"Y\", \"U\", \"L1\", \"L2\"]\n",
    "df = pd.DataFrame(columns = columns)\n",
    "df.head()\n",
    "\n",
    "for ii in range(1,indiv+1):\n",
    "    \n",
    "    ## creating an unobserved variable that affects covariates \n",
    "    U = np.random.uniform(low = 0.1, high = 1)\n",
    "    \n",
    "    \n",
    "    for jj in range(0, time+1): \n",
    "        if jj == 0: \n",
    "            x_L = alpha_0 + U \n",
    "            L1 = np.random.binomial(n=1, p = np.exp(x_L)/(1+np.exp(x_L)))\n",
    "            \n",
    "            x_A = beta_0 + U + beta_1*L1 \n",
    "            A = np.random.binomial(n=1, p = np.exp(x_A)/(1+np.exp(x_A)))\n",
    "            \n",
    "        elif jj == 1: \n",
    "            print(df[\"L1\"][(df.time == jj-1) & (df.indiv == ii)][1])\n",
    "            x_L = alpha_0 + alpha_1*df[\"L1\"][(df.time == jj-1) & (df.indiv == ii)][1]+alpha_3*df[\"A\"][(df.time == jj-1) & (df.indiv == ii)][1]\n",
    "            L1 = np.random.binomial(n=1, p = np.exp(x_L)/(1+np.exp(x_L)))\n",
    "            \n",
    "            x_A = beta_0 + beta_1*L1 + beta_2*df[\"L1\"][(df.time == jj-1) & (df.indiv == ii)][1]+ beta_3*df[\"A\"][(df.time == jj-1) & (df.indiv == ii)][1]\n",
    "            A = np.random.binomial(n=1, p = np.exp(x_A)/(1+np.exp(x_A)))\n",
    "\n",
    "        else: \n",
    "            x_L = alpha_0 + alpha_1*df[\"L1\"][(df.time == jj-1) & (df.indiv == ii)]+alpha_2*df[\"L1\"][(df.time == jj-2) & (df.indiv == ii)]+alpha_3*df[\"A\"][(df.time == jj-1) & (df.indiv == ii)]+alpha_4*df[\"A\"][(df.time == jj-2) & (df.indiv == ii)]\n",
    "            L1 = np.random.binomial(n=1, p = np.exp(x_L)/(1+np.exp(x_L)))\n",
    "            \n",
    "            x_A = beta_0 + beta_1*L1 + beta_2*df[\"L1\"][(df.time == jj-1) & (df.indiv == ii)]+ beta_3*df[\"A\"][(df.time == jj-1) & (df.indiv == ii)]+ beta_4*df[\"A\"][(df.time == jj-2) & (df.indiv == ii)]\n",
    "            A = np.random.binomial(n=1, p = np.exp(x_A)/(1+np.exp(x_A)))\n",
    "         \n",
    "        Y = np.random.normal(loc = U, scale = 1)\n",
    "        \n",
    "        ## df.loc[len(df)+1] = [ii, jj, A, Y, U, L1, L2]\n",
    "        df.loc[len(df)+1] = [ii, jj, A, Y, U, L1]\n",
    "# df.head(200)"
   ]
  },
  {
   "cell_type": "code",
   "execution_count": 5,
   "metadata": {
    "collapsed": false
   },
   "outputs": [
    {
     "ename": "NameError",
     "evalue": "name 'df' is not defined",
     "output_type": "error",
     "traceback": [
      "\u001b[0;31m---------------------------------------------------------------------------\u001b[0m",
      "\u001b[0;31mNameError\u001b[0m                                 Traceback (most recent call last)",
      "\u001b[0;32m<ipython-input-5-2569c44faf66>\u001b[0m in \u001b[0;36m<module>\u001b[0;34m()\u001b[0m\n\u001b[0;32m----> 1\u001b[0;31m \u001b[0mdf\u001b[0m\u001b[0;34m.\u001b[0m\u001b[0mhead\u001b[0m\u001b[0;34m(\u001b[0m\u001b[0;34m)\u001b[0m\u001b[0;34m\u001b[0m\u001b[0m\n\u001b[0m",
      "\u001b[0;31mNameError\u001b[0m: name 'df' is not defined"
     ]
    }
   ],
   "source": [
    "df.head()\n"
   ]
  },
  {
   "cell_type": "code",
   "execution_count": 274,
   "metadata": {
    "collapsed": true
   },
   "outputs": [],
   "source": [
    "# creating shifted values \n",
    "df[\"A_1\"] = df.A.shift(1)\n",
    "df[\"A_2\"] = df.A.shift(2)\n",
    "df[\"Y_1\"] = df.Y.shift(1)\n",
    "df[\"Y_2\"] = df.Y.shift(2)\n",
    "df[\"L1_1\"] = df.L1.shift(1)\n",
    "df[\"L1_2\"] = df.L1.shift(2)\n",
    "df[\"L2_1\"] = df.L2.shift(1)\n",
    "df[\"L2_2\"] = df.L2.shift(2)\n",
    "\n",
    "\n",
    "## making sure individuals' values dont get muddled \n",
    "df[\"A_1\"][df.time == 0] = 0\n",
    "df[\"A_2\"][df.time == 0] = 0\n",
    "df[\"Y_1\"][df.time == 0] = 0   ## WHAT SHOULD THIS BE EQUAL TO???\n",
    "df[\"Y_2\"][df.time == 0] = 0   ## HERE TOO \n",
    "df[\"L1_1\"][df.time == 0] = df[\"L1\"][df.time == 0]\n",
    "df[\"L1_2\"][df.time == 0] = df[\"L1\"][df.time == 0]\n",
    "df[\"L2_1\"][df.time == 0] = df[\"L2\"][df.time == 0]\n",
    "df[\"L2_2\"][df.time == 0] = df[\"L2\"][df.time == 0]\n",
    "\n",
    "df[\"A_2\"][df.time == 1] = 0\n",
    "df[\"Y_2\"][df.time == 1] = 0   ## AND THIS ONE\n",
    "df[\"L1_2\"][df.time == 1] = df[\"L1\"][df.time == 1]\n",
    "df[\"L2_2\"][df.time == 1] = df[\"L2\"][df.time == 1]\n",
    "\n",
    "df.to_csv(\"Sim_Data.csv\")"
   ]
  },
  {
   "cell_type": "markdown",
   "metadata": {},
   "source": [
    "Starting with the model for Y, we use a linear regression to get the following model, \n",
    "$$\\mathbb{E} \\big[Y_{t+1} \\mid \\overline{A}_t, \\overline{L}_t, \\overline{Y}_t \\big] = \\theta_{0,t} + \\theta_1 Y_{t} + \\theta_2 Y_{t-1} + \\theta_3 A_{t}+ \\theta_4 A_{t-1} + \\theta_5 L_t + \\theta_6 L_{t-1} $$ \n",
    "\n"
   ]
  },
  {
   "cell_type": "code",
   "execution_count": 276,
   "metadata": {
    "collapsed": false
   },
   "outputs": [],
   "source": [
    "columns = [\"time\", \"int\", \"A\", \"L1\", \"L2\", \"A_1\", \"A_2\", \"Y_1\", \"Y_2\", \"L1_1\", \"L1_2\", \"L2_1\", \"L2_2\"]\n",
    "Y_model_df = pd.DataFrame(columns = columns)\n",
    "## creating our models \n",
    "for ii in range(t_delay, time+1): \n",
    "    temp_df = df[df.time == ii]\n",
    "    Y_model = smf.ols('Y ~ A + L1 + L2 + A_1 + A_2 + Y.shift(1) + Y.shift(2) + L1_1 + L1_2 + L2_1 + L2_2', data=temp_df).fit()\n",
    "    Y_model_df = Y_model_df.append(pd.DataFrame([ii] + [Y_model.params[i] for i in range(0,12)], index = columns).transpose(), ignore_index=True)"
   ]
  },
  {
   "cell_type": "code",
   "execution_count": 277,
   "metadata": {
    "collapsed": false,
    "scrolled": true
   },
   "outputs": [],
   "source": [
    "Y_model_df.to_csv(\"Y_model_data.csv\")"
   ]
  },
  {
   "cell_type": "markdown",
   "metadata": {},
   "source": [
    "Now, we build the models for the two covariates separately.  For the first covariate, the model will look like this\n",
    "\n",
    "$$ logistP\\big[L_{1, t+1} \\mid \\overline{A}_t, \\overline{L}_{1,t}, \\overline{Y}_{t+1} \\big] = \\alpha_{0,t} + \\alpha_1 Y_{t+1} + \\alpha_2 Y_{t} + \\alpha_3 Y_{t-1} +  \\alpha_4 A_{t}+ \\alpha_5 A_{t-1} + \\alpha_6 L_{1,t} + \\alpha_7 L_{1,t-1} + \\alpha_8 L_{2,t} + \\alpha_9 L_{2,t-1} $$ \n"
   ]
  },
  {
   "cell_type": "code",
   "execution_count": 278,
   "metadata": {
    "collapsed": true
   },
   "outputs": [
    {
     "name": "stdout",
     "output_type": "stream",
     "text": [
      "Optimization terminated successfully.\n",
      "         Current function value: 0.437313\n",
      "         Iterations 7\n",
      "Optimization terminated successfully.\n",
      "         Current function value: 0.427895\n",
      "         Iterations 7\n",
      "Optimization terminated successfully.\n",
      "         Current function value: 0.472617\n",
      "         Iterations 6\n",
      "Optimization terminated successfully.\n",
      "         Current function value: 0.499656\n",
      "         Iterations 6\n",
      "Optimization terminated successfully.\n",
      "         Current function value: 0.455760\n",
      "         Iterations 6\n",
      "Optimization terminated successfully.\n",
      "         Current function value: 0.444806\n",
      "         Iterations 7\n",
      "Optimization terminated successfully.\n",
      "         Current function value: 0.380758\n",
      "         Iterations 7\n",
      "Optimization terminated successfully.\n",
      "         Current function value: 0.335490\n",
      "         Iterations 8\n",
      "Optimization terminated successfully.\n",
      "         Current function value: 0.494525\n",
      "         Iterations 6\n"
     ]
    }
   ],
   "source": [
    "## Creating model for L1 \n",
    "columns = [\"time\", \"int\", \"A\", \"A_1\", \"A_2\", \"Y\", \"Y_1\", \"Y_2\", \"L1_1\", \"L1_2\", \"L2_1\", \"L2_2\"]\n",
    "train_columns = [\"A\", \"A_1\", \"A_2\", \"Y\", \"Y_1\", \"Y_2\", \"L1_1\", \"L1_2\", \"L2_1\", \"L2_2\"]\n",
    "L1_model_df = pd.DataFrame(columns = columns)\n",
    "\n",
    "for ii in range(t_delay, time+1): \n",
    "    temp_df = df[df.time == ii]\n",
    "    L1_model = sm.Logit(np.asarray(temp_df[\"L1\"]), np.asarray(sm.add_constant(temp_df[train_columns]))).fit()\n",
    "    L1_model_df = L1_model_df.append(pd.DataFrame([ii] + [L1_model.params[i] for i in range(0,11)], index = columns).transpose(), ignore_index=True)\n",
    "    "
   ]
  },
  {
   "cell_type": "markdown",
   "metadata": {},
   "source": [
    "For the first covariate, the model will look like this\n",
    "\n",
    "$$ logistP\\big[L_{2, t+1} \\mid \\overline{A}_t, \\overline{L}_{1,t}, \\overline{Y}_{t+1} \\big] = \\alpha_{0,t} + \\alpha_1 Y_{t+1} + \\alpha_2 Y_{t} + \\alpha_3 Y_{t-1} +  \\alpha_4 A_{t}+ \\alpha_5 A_{t-1} + \\alpha_6 L_{2,t} + \\alpha_7 L_{2,t-1} + \\alpha_8 L_{1,t+1} + \\alpha_9 L_{1,t} + \\alpha_{10} L_{1,t-1} $$\n",
    "\n",
    "NOTE the assumption here that the model for $L_{2, t+1}$ includes the data point $L_{1,t+1}$ whereas in the above, the reverse was not true "
   ]
  },
  {
   "cell_type": "code",
   "execution_count": 279,
   "metadata": {
    "collapsed": true
   },
   "outputs": [
    {
     "name": "stdout",
     "output_type": "stream",
     "text": [
      "Optimization terminated successfully.\n",
      "         Current function value: 0.509789\n",
      "         Iterations 6\n",
      "Optimization terminated successfully.\n",
      "         Current function value: 0.482829\n",
      "         Iterations 6\n",
      "Optimization terminated successfully.\n",
      "         Current function value: 0.388738\n",
      "         Iterations 7\n",
      "Optimization terminated successfully.\n",
      "         Current function value: 0.464160\n",
      "         Iterations 7\n",
      "Optimization terminated successfully.\n",
      "         Current function value: 0.415793\n",
      "         Iterations 7\n",
      "Optimization terminated successfully.\n",
      "         Current function value: 0.423139\n",
      "         Iterations 7\n",
      "Optimization terminated successfully.\n",
      "         Current function value: 0.357553\n",
      "         Iterations 7\n",
      "Optimization terminated successfully.\n",
      "         Current function value: 0.430307\n",
      "         Iterations 7\n",
      "Optimization terminated successfully.\n",
      "         Current function value: 0.471741\n",
      "         Iterations 6\n"
     ]
    }
   ],
   "source": [
    "## Model for L2\n",
    "columns = [\"time\", \"int\", \"A\", \"L1\", \"A_1\", \"A_2\", \"Y\", \"Y_1\", \"Y_2\", \"L1_1\", \"L1_2\", \"L2_1\", \"L2_2\"]\n",
    "train_columns = [\"A\", \"L1\", \"A_1\", \"A_2\", \"Y\", \"Y_1\", \"Y_2\", \"L1_1\", \"L1_2\", \"L2_1\", \"L2_2\"]\n",
    "L2_model_df = pd.DataFrame(columns = columns)\n",
    "for ii in range(t_delay, time+1): \n",
    "    temp_df = df[df.time == ii]\n",
    "    L2_model = sm.Logit(np.asarray(temp_df[\"L2\"]), np.asarray(sm.add_constant(temp_df[train_columns]))).fit()\n",
    "    L2_model_df = L2_model_df.append(pd.DataFrame([ii] + [L2_model.params[i] for i in range(0,12)], index = columns).transpose(), ignore_index=True)\n"
   ]
  },
  {
   "cell_type": "markdown",
   "metadata": {},
   "source": [
    "Now, using these three models, we can calculate the following expectations\n",
    "\n",
    "$$ \\mathbb{E} \\big[Y_{i}^{\\overline{a}}\\big]  = \\sum_{i} \\mathbb{E} \\big[Y_i \\mid A_{i-1} = a_{i-1},  \\; A_{i-2} = a_{i-2}, \\; L_{1, i-1}, \\; L_{1, i-2}, \\; L_{2, i-1}, \\; L_{2, i-2} \\big]$$ \n",
    "\n",
    "for the respective $\\bar{a} = \\bar{0}$ and $\\bar{a} = \\bar{1}$"
   ]
  },
  {
   "cell_type": "code",
   "execution_count": 376,
   "metadata": {
    "collapsed": false
   },
   "outputs": [],
   "source": [
    "## n = 1000 \n",
    "columns = [\"time\", \"index\", \"Y\", \"A\", \"L1\", \"L2\"]\n",
    "est_df = pd.DataFrame(columns = columns)\n",
    "\n",
    "for ii in range(t_delay, time+1): \n",
    "    for jj in range(1, indiv+1): \n",
    "        A = int(df.A[(df.indiv == jj) & (df.time == ii)])\n",
    "        \n",
    "        temp = np.append(1,np.asarray(df[(df.indiv == jj) & (df.time == ii)])[0][[2,7,8,3,9,10,11,12,13,14]])\n",
    "        L1 = sum(np.asarray(L1_model_df[L1_model_df.time == ii])[0][1:]*temp)\n",
    "        \n",
    "        temp2 = np.append(np.append(1, np.asarray(df[(df.indiv == jj) & (df.time == ii)])[0][[2]]), np.append(L1, np.asarray(df[(df.indiv == jj) & (df.time == ii)])[0][[7, 8, 9, 3, 10,11,12,13,14]]))\n",
    "        L2 = sum(np.asarray(L2_model_df[L2_model_df.time == ii])[0][1:]*temp2)\n",
    "        \n",
    "        temp3 = np.append(np.array([1, A, L1]), np.append(L2, np.asarray(df[(df.indiv == jj) & (df.time == ii)])[0][[7,8,9,10,11,12,13,14]]))\n",
    "        Y = sum(np.asarray(Y_model_df[Y_model_df.time == ii])[0][1:]*temp3)\n",
    "        \n",
    "        est_df.loc[len(est_df)+1] = [ii, jj, Y, A, L1, L2]"
   ]
  },
  {
   "cell_type": "markdown",
   "metadata": {},
   "source": [
    "Calculating the final difference for each time, using the following\n",
    "$$ \\mathbb{E}\\big[Y^{a=1}\\big] - \\mathbb{E}\\big[Y^{a=0}\\big]$$ "
   ]
  },
  {
   "cell_type": "code",
   "execution_count": 377,
   "metadata": {
    "collapsed": false
   },
   "outputs": [
    {
     "name": "stdout",
     "output_type": "stream",
     "text": [
      "time = 2 ,  0.46105361018825164\n",
      "time = 3 ,  0.526697548525421\n",
      "time = 4 ,  1.2878634635729955\n",
      "time = 5 ,  1.9127264887202207\n",
      "time = 6 ,  0.6644596028793268\n",
      "time = 7 ,  1.3200164322851768\n",
      "time = 8 ,  0.6295412209039655\n",
      "time = 9 ,  -0.12736163858216631\n",
      "time = 10 ,  0.8957420697237359\n"
     ]
    }
   ],
   "source": [
    "for ii in range(t_delay, time+1): \n",
    "    print(\"time =\", ii, \", \" ,np.mean(est_df.Y[(est_df.time == ii) & (est_df.A == 1)])-np.mean(est_df.Y[(est_df.time == ii) & (est_df.A == 0)]))\n"
   ]
  },
  {
   "cell_type": "code",
   "execution_count": null,
   "metadata": {
    "collapsed": true
   },
   "outputs": [],
   "source": []
  }
 ],
 "metadata": {
  "anaconda-cloud": {},
  "kernelspec": {
   "display_name": "Python [default]",
   "language": "python",
   "name": "python3"
  },
  "language_info": {
   "codemirror_mode": {
    "name": "ipython",
    "version": 3
   },
   "file_extension": ".py",
   "mimetype": "text/x-python",
   "name": "python",
   "nbconvert_exporter": "python",
   "pygments_lexer": "ipython3",
   "version": "3.5.2"
  }
 },
 "nbformat": 4,
 "nbformat_minor": 1
}
