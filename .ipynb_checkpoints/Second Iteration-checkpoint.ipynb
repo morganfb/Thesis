{
 "cells": [
  {
   "cell_type": "markdown",
   "metadata": {},
   "source": [
    "We can establish our framework by defining the variables to be used.  We start with the outcome variable, $Y$.  Next, we consider out treatment variable, $A_k$, which takes on value 1 if there is treatment, and is 0 otherwise.  To begin, we will use treatment strategies that are exclusively treatment or exclusively no treatment, corresponding to $\\overline{a} = (1,1,\\dots,1) = \\overline{1}$ and $\\overline{a} = (0,0,\\dots,0) = \\overline{0}$ respectively.  The next measurable variable is $L$, which represents the covariate(s) to be included.  Note that both the covariates, $L$, and the outcome, $Y$ are affected by an unmeasured common cause, $U$.  The diagram below illustrates these relationships.  \n",
    "\n",
    "![title](image4.png)"
   ]
  },
  {
   "cell_type": "markdown",
   "metadata": {},
   "source": [
    "The purpose of this investigation is to measure the average causal effect of treatment, which can be estimated using \n",
    "$$ \\mathbb{E}\\big[Y^{a=1}\\big] - \\mathbb{E}\\big[Y^{a=0}\\big]$$ "
   ]
  },
  {
   "cell_type": "markdown",
   "metadata": {},
   "source": [
    "We want to build out the g-formula as follows  \n",
    "$$ \\mathbb{E} \\big[Y_{i}^{\\overline{a}}\\big]  = \\sum_{i} \\mathbb{E} \\big[Y_i \\mid A_{i-1} = a_{i-1},  \\; A_{i-2} = a_{i-2}, \\; L_{i-1}, \\; L_{i-2} \\big]$$ \n",
    "\n",
    "We can do this by building out two models, one for $Y$ And one for $L$.  We will begin by using a continous $Y$ and a binary $L$ for simplicity.  \n",
    "\n",
    "For $Y$, we will use a linear regression for a time delay of t=2.  The model will look something like this \n",
    "\n",
    "$$\\mathbb{E} \\big[Y_{t+1} \\mid \\overline{A}_t, \\overline{L}_t, \\overline{Y}_t \\big] = \\theta_{0,t} + \\theta_1 Y_{t} + \\theta_2 Y_{t-1} + \\theta_3 A_{t}+ \\theta_4 A_{t-1} + \\theta_5 L_t + \\theta_6 L_{t-1} $$ \n",
    "\n",
    "For each $L$, we will use a logistic regression, also calculated on a time delay of t=2.  This will give us something similar to \n",
    "$$ logistP\\big[L_{t+1} \\mid \\overline{A}_t, \\overline{L}_t, \\overline{Y}_{t+1} \\big] = \\alpha_{0,t} + \\alpha_1 Y_{t+1} + \\alpha_2 Y_{t} + \\alpha_3 Y_{t-1} +  \\alpha_4 A_{t}+ \\alpha_5 A_{t-1} + \\alpha_6 L_t + \\alpha_7 L_{t-1} $$ \n",
    "\n",
    "\n",
    "<!---what quadratic time term needed to be added here? --->"
   ]
  },
  {
   "cell_type": "markdown",
   "metadata": {},
   "source": [
    "We first need to simulate the data. We will build out the covariates of the population.  For simplicity, we will use one binary covariate, $L_1$.  \n",
    "\n",
    "The data is being simulated using the following equations, where U is an underlying confounder.  \n",
    "\n",
    "$$logitP[L_k] = \\alpha_0 + \\alpha_1 \\cdot L_{k-1} + \\alpha_2 \\cdot L_{k-2} + \\alpha_3 A_{k-1} + \\alpha_4 A_{K-2} + \\alpha_5 U$$ \n",
    "\n",
    "\n",
    "$$ logit[A_k] = \\beta_0 + \\beta_1 L_{k} + \\beta_2 L_{k-1} + \\beta_3 A_{k-1} + \\beta_4 A_{K-2} $$ \n",
    "\n",
    "Then, an end $Y$ value will be pulled from the following \n",
    "$$ Y \\sim N(\\mu = U, \\sigma = 1) $$ "
   ]
  },
  {
   "cell_type": "code",
   "execution_count": 39,
   "metadata": {
    "collapsed": false
   },
   "outputs": [],
   "source": [
    "import pandas as pd\n",
    "import numpy as np\n",
    "import scipy as sp\n",
    "import sklearn as sk\n",
    "import math\n",
    "import csv\n",
    "import statsmodels.api as sm\n",
    "import statsmodels.formula.api as smf\n",
    "import random"
   ]
  },
  {
   "cell_type": "code",
   "execution_count": 130,
   "metadata": {
    "collapsed": false
   },
   "outputs": [],
   "source": [
    "#########################################################################\n",
    "##[FUNCTION] data_creation simulates data for a given number of \n",
    "## individuals(indiv) over a set amount of time (max_time), and can \n",
    "## include as many covariates as desired (number_of_covariates)\n",
    "\n",
    "## -- need to create the functionality for multiple covariates\n",
    "\n",
    "#########################################################################\n",
    "\n",
    "\n",
    "def data_creation(indiv, max_time, number_of_covariates): \n",
    "\n",
    "    columns = [\"indiv\", \"time\", \"A\", \"Y\", \"U\", \"L1\"]\n",
    "    df = pd.DataFrame(columns = columns)\n",
    "    coefficient_df = pd.DataFrame(columns = [\"indiv\", \"alpha_0\", \"alpha_1\", \\\n",
    "                     \"alpha_2\", \"alpha_3\", \"alpha_4\", \"alpha_5\", \"beta_0\", \\\n",
    "                     \"beta_1\", \"beta_2\", \"beta_3\", \"beta_4\"])\n",
    "\n",
    "    for ii in range(1,indiv+1):\n",
    "\n",
    "        alpha_0 = np.random.uniform(low = -1, high = 1)\n",
    "        alpha_1 = np.random.uniform(low = -1, high = 1)\n",
    "        alpha_2 = np.random.uniform(low = -1, high = 1)\n",
    "        alpha_3 = np.random.uniform(low = -1, high = 1)\n",
    "        alpha_4 = np.random.uniform(low = -1, high = 1)\n",
    "        alpha_5 = np.random.uniform(low = -1, high = 1)\n",
    "\n",
    "        beta_0 = np.random.uniform(low = -1, high = 1)\n",
    "        beta_1 = np.random.uniform(low = -1, high = 1)\n",
    "        beta_2 = np.random.uniform(low = -1, high = 1)\n",
    "        beta_3 = np.random.uniform(low = -1, high = 1)\n",
    "        beta_4 = np.random.uniform(low = -1, high = 1)\n",
    "\n",
    "        coefficient_df.loc[len(coefficient_df)+1] = [ii, alpha_0, alpha_1, alpha_2, \\\n",
    "                alpha_3, alpha_4, alpha_5, beta_0, beta_1, beta_2, beta_3, beta_4, ]\n",
    "\n",
    "        for jj in range(0, time+1): \n",
    "\n",
    "            ## creating an unobserved variable that affects covariates \n",
    "            U = np.random.uniform(low = 0.1, high = 1)\n",
    "\n",
    "            if jj == 0: \n",
    "                x_L = alpha_0 + alpha_5*U \n",
    "                L1 = np.random.binomial(n=1, p = np.exp(x_L)/(1+np.exp(x_L)))\n",
    "\n",
    "                x_A = beta_0 + beta_1*L1 \n",
    "                A = np.random.binomial(n=1, p = np.exp(x_A)/(1+np.exp(x_A)))\n",
    "\n",
    "                df.loc[len(df)+1] = [ii, jj, A, \"NaN\", U, L1]\n",
    "\n",
    "            elif jj == 1: \n",
    "                x_L = alpha_0 + alpha_1*float(df[\"L1\"][(df.time == jj-1) & (df.indiv == ii)])+alpha_3*float(df[\"A\"][(df.time == jj-1) & (df.indiv == ii)])+ alpha_5*U \n",
    "                L1 = np.random.binomial(n=1, p = np.exp(x_L)/(1+np.exp(x_L)))\n",
    "\n",
    "                x_A = beta_0 + beta_1*L1 + beta_2*float(df[\"L1\"][(df.time == jj-1) & (df.indiv == ii)])+ beta_3*float(df[\"A\"][(df.time == jj-1) & (df.indiv == ii)])\n",
    "                A = np.random.binomial(n=1, p = np.exp(x_A)/(1+np.exp(x_A)))\n",
    "\n",
    "                df.loc[len(df)+1] = [ii, jj, A, \"NaN\", U, L1]\n",
    "\n",
    "            else: \n",
    "                x_L = alpha_0 + alpha_1*float(df[\"L1\"][(df.time == jj-1) & (df.indiv == ii)])+alpha_2*float(df[\"L1\"][(df.time == jj-2) & (df.indiv == ii)])+alpha_3*float(df[\"A\"][(df.time == jj-1) & (df.indiv == ii)])+alpha_4*float(df[\"A\"][(df.time == jj-2) & (df.indiv == ii)])+ alpha_5*U \n",
    "                L1 = np.random.binomial(n=1, p = np.exp(x_L)/(1+np.exp(x_L)))\n",
    "\n",
    "\n",
    "                x_A = beta_0 + beta_1*L1 + beta_2*float(df[\"L1\"][(df.time == jj-1) & (df.indiv == ii)])+ beta_3*float(df[\"A\"][(df.time == jj-1) & (df.indiv == ii)])+ beta_4*float(df[\"A\"][(df.time == jj-2) & (df.indiv == ii)])\n",
    "                A = np.random.binomial(n=1, p = np.exp(x_A)/(1+np.exp(x_A)))\n",
    "\n",
    "                if jj == time: \n",
    "                    Y = np.random.normal(loc = U, scale = 1)\n",
    "                    df.loc[len(df)+1] = [ii, jj, A, Y, U, L1]\n",
    "\n",
    "                else: \n",
    "                    df.loc[len(df)+1] = [ii, jj, A, \"NaN\", U, L1]\n",
    "\n",
    "    # creating shifted values \n",
    "    df[\"A_1\"] = df.A.shift(1)\n",
    "    df[\"A_2\"] = df.A.shift(2)\n",
    "    df[\"L1_1\"] = df.L1.shift(1)\n",
    "    df[\"L1_2\"] = df.L1.shift(2)\n",
    "\n",
    "    return(df, coefficient_df); "
   ]
  },
  {
   "cell_type": "markdown",
   "metadata": {},
   "source": [
    "Starting with the model for Y, we use a linear regression to get the following model, \n",
    "$$\\mathbb{E} \\big[Y_{t+1} \\mid \\overline{A}_t, \\overline{L}_t, \\overline{Y}_t \\big] = \\theta_{0,t} + \\theta_1 Y_{t} + \\theta_2 Y_{t-1} + \\theta_3 A_{t}+ \\theta_4 A_{t-1} + \\theta_5 L_t + \\theta_6 L_{t-1} $$ \n",
    "\n"
   ]
  },
  {
   "cell_type": "code",
   "execution_count": 131,
   "metadata": {
    "collapsed": true
   },
   "outputs": [],
   "source": [
    "## establishing constants \n",
    "indiv = 100   ## number of individuals in study \n",
    "max_time = 10 ## number of time points being considered \n",
    "t_delay = 2 ## number of time delays included in model \n",
    "\n",
    "## Building out simulated data \n",
    "[df, coefficient_df] = data_creation(indiv,max_time, 2)"
   ]
  },
  {
   "cell_type": "code",
   "execution_count": 125,
   "metadata": {
    "collapsed": false
   },
   "outputs": [
    {
     "data": {
      "text/plain": [
       "[0.048414472498733638,\n",
       " 0.26218820266186943,\n",
       " -0.1310089604660285,\n",
       " 0.1879393608388506,\n",
       " 0.13723923576476632,\n",
       " 0.10143102298440548,\n",
       " 0.089057473431550488]"
      ]
     },
     "execution_count": 125,
     "metadata": {},
     "output_type": "execute_result"
    }
   ],
   "source": [
    "temp_df = df[df.time == max_time]\n",
    "temp_df = temp_df.astype(float)\n",
    "Y_model = smf.ols('Y ~ A + L1 + A_1 + A_2 + L1_1 + L1_2', data=temp_df).fit()\n",
    "## list(Y_model.params)"
   ]
  },
  {
   "cell_type": "code",
   "execution_count": 126,
   "metadata": {
    "collapsed": false
   },
   "outputs": [
    {
     "name": "stdout",
     "output_type": "stream",
     "text": [
      "Optimization terminated successfully.\n",
      "         Current function value: 0.681540\n",
      "         Iterations 4\n",
      "Optimization terminated successfully.\n",
      "         Current function value: 0.659263\n",
      "         Iterations 4\n",
      "Optimization terminated successfully.\n",
      "         Current function value: 0.650011\n",
      "         Iterations 5\n",
      "Optimization terminated successfully.\n",
      "         Current function value: 0.665845\n",
      "         Iterations 5\n",
      "Optimization terminated successfully.\n",
      "         Current function value: 0.641332\n",
      "         Iterations 5\n",
      "Optimization terminated successfully.\n",
      "         Current function value: 0.663443\n",
      "         Iterations 4\n",
      "Optimization terminated successfully.\n",
      "         Current function value: 0.670960\n",
      "         Iterations 4\n",
      "Optimization terminated successfully.\n",
      "         Current function value: 0.675835\n",
      "         Iterations 4\n",
      "Optimization terminated successfully.\n",
      "         Current function value: 0.680520\n",
      "         Iterations 4\n",
      "Optimization terminated successfully.\n",
      "         Current function value: 0.613736\n",
      "         Iterations 5\n"
     ]
    }
   ],
   "source": [
    "## Creating model for L1\n",
    "\n",
    "columns = [\"time\", \"gamma_0\", \"gamma_1\", \"gamma_2\", \"gamma_3\", \"gamma_4\"]\n",
    "train_columns = [\"L1_1\", \"L1_2\", \"A_1\", \"A_2\"]\n",
    "L1_model_df = pd.DataFrame(columns = columns)\n",
    "\n",
    "for ii in range(1, time+1): \n",
    "    temp_df = df[df.time == ii]   \n",
    "    if ii == 1: \n",
    "        L1_model = sm.Logit(np.asarray(temp_df[\"L1\"]), np.asarray(sm.add_constant(temp_df[[\"L1_1\", \"A_1\"]]))).fit()\n",
    "        L1_model_df = L1_model_df.append(pd.DataFrame([ii] + [L1_model.params[i] for i in range(0,2)] + [\"Nan\"] + [L1_model.params[2]] + [\"Nan\"], index = columns).transpose(), ignore_index=True)\n",
    "    else: \n",
    "        L1_model = sm.Logit(np.asarray(temp_df[\"L1\"]), np.asarray(sm.add_constant(temp_df[train_columns]))).fit()\n",
    "        L1_model_df = L1_model_df.append(pd.DataFrame([ii] + [L1_model.params[i] for i in range(0,5)], index = columns).transpose(), ignore_index=True)\n",
    "    "
   ]
  },
  {
   "cell_type": "code",
   "execution_count": 127,
   "metadata": {
    "collapsed": false
   },
   "outputs": [
    {
     "name": "stdout",
     "output_type": "stream",
     "text": [
      "Optimization terminated successfully.\n",
      "         Current function value: 0.687060\n",
      "         Iterations 4\n",
      "Optimization terminated successfully.\n",
      "         Current function value: 0.665192\n",
      "         Iterations 4\n",
      "Optimization terminated successfully.\n",
      "         Current function value: 0.613608\n",
      "         Iterations 5\n",
      "Optimization terminated successfully.\n",
      "         Current function value: 0.620843\n",
      "         Iterations 5\n",
      "Optimization terminated successfully.\n",
      "         Current function value: 0.683597\n",
      "         Iterations 4\n",
      "Optimization terminated successfully.\n",
      "         Current function value: 0.624364\n",
      "         Iterations 5\n",
      "Optimization terminated successfully.\n",
      "         Current function value: 0.594583\n",
      "         Iterations 5\n",
      "Optimization terminated successfully.\n",
      "         Current function value: 0.606084\n",
      "         Iterations 5\n",
      "Optimization terminated successfully.\n",
      "         Current function value: 0.633544\n",
      "         Iterations 5\n",
      "Optimization terminated successfully.\n",
      "         Current function value: 0.637347\n",
      "         Iterations 5\n"
     ]
    }
   ],
   "source": [
    "## Creating model for A \n",
    "\n",
    "columns = [\"time\", \"delta_0\", \"delta_1\", \"delta_2\", \"delta_3\", \"delta_4\"] \n",
    "train_columns = [\"L1\", \"L1_1\", \"A_1\", \"A_2\"]\n",
    "A_model_df = pd.DataFrame(columns = columns)\n",
    "\n",
    "for ii in range(1, time+1): \n",
    "    temp_df = df[df.time == ii]\n",
    "    if ii == 1: \n",
    "        A_model = sm.Logit(np.asarray(temp_df[\"A\"]), np.asarray(sm.add_constant(temp_df[[\"L1\", \"L1_1\", \"A_1\"]]))).fit()\n",
    "        A_model_df = A_model_df.append(pd.DataFrame([ii] + [A_model.params[i] for i in range(0,4)] + [\"Nan\"], index = columns).transpose(), ignore_index=True)\n",
    "    else:\n",
    "        A_model = sm.Logit(np.asarray(temp_df[\"A\"]), np.asarray(sm.add_constant(temp_df[train_columns]))).fit()\n",
    "        A_model_df = A_model_df.append(pd.DataFrame([ii] + [A_model.params[i] for i in range(0,5)], index = columns).transpose(), ignore_index=True)\n",
    "   "
   ]
  },
  {
   "cell_type": "markdown",
   "metadata": {},
   "source": [
    "Now, using these three models, we can calculate the following expectations\n",
    "\n",
    "$$ \\mathbb{E} \\big[Y_{i}^{\\overline{a}}\\big]  = \\sum_{i} \\mathbb{E} \\big[Y_i \\mid A_{i-1} = a_{i-1},  \\; A_{i-2} = a_{i-2}, \\; L_{1, i-1}, \\; L_{1, i-2}, \\; L_{2, i-1}, \\; L_{2, i-2} \\big]$$ \n",
    "\n",
    "for the respective $\\bar{a} = \\bar{0}$ and $\\bar{a} = \\bar{1}$"
   ]
  },
  {
   "cell_type": "code",
   "execution_count": 129,
   "metadata": {
    "collapsed": false
   },
   "outputs": [
    {
     "data": {
      "text/html": [
       "<div>\n",
       "<table border=\"1\" class=\"dataframe\">\n",
       "  <thead>\n",
       "    <tr style=\"text-align: right;\">\n",
       "      <th></th>\n",
       "      <th>time</th>\n",
       "      <th>delta_0</th>\n",
       "      <th>delta_1</th>\n",
       "      <th>delta_2</th>\n",
       "      <th>delta_3</th>\n",
       "      <th>delta_4</th>\n",
       "    </tr>\n",
       "  </thead>\n",
       "  <tbody>\n",
       "    <tr>\n",
       "      <th>0</th>\n",
       "      <td>1</td>\n",
       "      <td>0.201187</td>\n",
       "      <td>-0.386565</td>\n",
       "      <td>-0.140241</td>\n",
       "      <td>0.104878</td>\n",
       "      <td>Nan</td>\n",
       "    </tr>\n",
       "    <tr>\n",
       "      <th>1</th>\n",
       "      <td>2</td>\n",
       "      <td>0.013619</td>\n",
       "      <td>0.146393</td>\n",
       "      <td>-0.49088</td>\n",
       "      <td>0.0174509</td>\n",
       "      <td>0.74267</td>\n",
       "    </tr>\n",
       "    <tr>\n",
       "      <th>2</th>\n",
       "      <td>3</td>\n",
       "      <td>-1.61762</td>\n",
       "      <td>-0.0496319</td>\n",
       "      <td>1.11314</td>\n",
       "      <td>0.926109</td>\n",
       "      <td>0.999785</td>\n",
       "    </tr>\n",
       "    <tr>\n",
       "      <th>3</th>\n",
       "      <td>4</td>\n",
       "      <td>-0.974707</td>\n",
       "      <td>0.10311</td>\n",
       "      <td>-0.29298</td>\n",
       "      <td>1.22201</td>\n",
       "      <td>0.882515</td>\n",
       "    </tr>\n",
       "    <tr>\n",
       "      <th>4</th>\n",
       "      <td>5</td>\n",
       "      <td>-0.174332</td>\n",
       "      <td>0.299984</td>\n",
       "      <td>-0.285293</td>\n",
       "      <td>0.431218</td>\n",
       "      <td>-0.0795761</td>\n",
       "    </tr>\n",
       "  </tbody>\n",
       "</table>\n",
       "</div>"
      ],
      "text/plain": [
       "  time   delta_0    delta_1   delta_2    delta_3    delta_4\n",
       "0    1  0.201187  -0.386565 -0.140241   0.104878        Nan\n",
       "1    2  0.013619   0.146393  -0.49088  0.0174509    0.74267\n",
       "2    3  -1.61762 -0.0496319   1.11314   0.926109   0.999785\n",
       "3    4 -0.974707    0.10311  -0.29298    1.22201   0.882515\n",
       "4    5 -0.174332   0.299984 -0.285293   0.431218 -0.0795761"
      ]
     },
     "execution_count": 129,
     "metadata": {},
     "output_type": "execute_result"
    }
   ],
   "source": [
    "A_model_df.head()"
   ]
  },
  {
   "cell_type": "code",
   "execution_count": 29,
   "metadata": {
    "collapsed": false
   },
   "outputs": [],
   "source": [
    "n = 1000 \n",
    "final_model_df = pd.DataFrame(columns = [\"time\", \"exp_Y_A1\", \"exp_Y_A0\"])\n",
    "\n",
    "for ii in range(0,n):\n",
    "    L0 = random.choce(list(df[\"L1\"][df[\"time\"] == 0]))\n",
    "    L1 = \n",
    "    \n",
    "    x_A = beta_0 + beta_1*L1 + beta_2*float(df[\"L1\"][(df.time == jj-1) & (df.indiv == ii)])+ beta_3*float(df[\"A\"][(df.time == jj-1) & (df.indiv == ii)])\n",
    "    A1 = A = np.random.binomial(n=1, p = np.exp(x_A)/(1+np.exp(x_A)))\n",
    "    \n",
    "    L2 = \n",
    "    for jj in range(t_delay, time):\n",
    "\n"
   ]
  },
  {
   "cell_type": "markdown",
   "metadata": {},
   "source": [
    "Calculating the final difference for each time, using the following\n",
    "$$ \\mathbb{E}\\big[Y^{a=1}\\big] - \\mathbb{E}\\big[Y^{a=0}\\big]$$ "
   ]
  },
  {
   "cell_type": "code",
   "execution_count": 62,
   "metadata": {
    "collapsed": false
   },
   "outputs": [
    {
     "data": {
      "text/plain": [
       "1.0"
      ]
     },
     "execution_count": 62,
     "metadata": {},
     "output_type": "execute_result"
    }
   ],
   "source": [
    "random.choice(list(L_0s))"
   ]
  },
  {
   "cell_type": "code",
   "execution_count": 59,
   "metadata": {
    "collapsed": false
   },
   "outputs": [
    {
     "data": {
      "text/plain": [
       "list"
      ]
     },
     "execution_count": 59,
     "metadata": {},
     "output_type": "execute_result"
    }
   ],
   "source": [
    "type(list(L_0s))"
   ]
  },
  {
   "cell_type": "code",
   "execution_count": null,
   "metadata": {
    "collapsed": true
   },
   "outputs": [],
   "source": []
  }
 ],
 "metadata": {
  "anaconda-cloud": {},
  "kernelspec": {
   "display_name": "Python [default]",
   "language": "python",
   "name": "python3"
  },
  "language_info": {
   "codemirror_mode": {
    "name": "ipython",
    "version": 3
   },
   "file_extension": ".py",
   "mimetype": "text/x-python",
   "name": "python",
   "nbconvert_exporter": "python",
   "pygments_lexer": "ipython3",
   "version": "3.5.2"
  }
 },
 "nbformat": 4,
 "nbformat_minor": 1
}
