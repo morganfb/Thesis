{
 "cells": [
  {
   "cell_type": "markdown",
   "metadata": {},
   "source": [
    "We can establish our framework by defining the variables to be used.  We start with the outcome variable, $Y$.  Next, we consider out treatment variable, $A_k$, which takes on value 1 if there is treatment, and is 0 otherwise.  To begin, we will use treatment strategies that are exclusively treatment or exclusively no treatment, corresponding to $\\overline{a} = (1,1,\\dots,1) = \\overline{1}$ and $\\overline{a} = (0,0,\\dots,0) = \\overline{0}$ respectively.  The next measurable variable is $L$, which represents the covariate(s) to be included.  Note that both the covariates, $L$, and the outcome, $Y$ are affected by an unmeasured common cause, $U$.  The diagram below illustrates these relationships.  \n",
    "\n",
    "![title](image3.png)"
   ]
  },
  {
   "cell_type": "markdown",
   "metadata": {},
   "source": [
    "The purpose of this investigation is to measure the average causal effect of treatment, which can be estimated using \n",
    "$$ \\mathbb{E}\\big[Y^{a=1}\\big] - \\mathbb{E}\\big[Y^{a=0}\\big]$$ "
   ]
  },
  {
   "cell_type": "markdown",
   "metadata": {},
   "source": [
    "We want to build out the g-formula as follows  \n",
    "$$ \\mathbb{E} \\big[Y_{i}^{\\overline{a}}\\big]  = \\sum_{i} \\mathbb{E} \\big[Y_i \\mid A_{i-1} = a_{i-1},  \\; A_{i-2} = a_{i-2}, \\; L_{i-1}, \\; L_{i-2} \\big]$$ \n",
    "\n",
    "We can do this by building out two models, one for $Y$ And one for $L$.  We will begin by using a continous $Y$ and a binary $L$ for simplicity.  \n",
    "\n",
    "For $Y$, we will use a linear regression for a time delay of t=2.  The model will look something like this \n",
    "\n",
    "$$\\mathbb{E} \\big[Y_{t+1} \\mid \\overline{A}_t, \\overline{L}_t, \\overline{Y}_t \\big] = \\theta_{0,t} + \\theta_1 Y_{t} + \\theta_2 Y_{t-1} + \\theta_3 A_{t}+ \\theta_4 A_{t-1} + \\theta_5 L_t + \\theta_6 L_{t-1} $$ \n",
    "\n",
    "For each $L$, we will use a logistic regression, also calculated on a time delay of t=2.  This will give us something similar to \n",
    "$$ logistP\\big[L_{t+1} \\mid \\overline{A}_t, \\overline{L}_t, \\overline{Y}_{t+1} \\big] = \\alpha_{0,t} + \\alpha_1 Y_{t+1} + \\alpha_2 Y_{t} + \\alpha_3 Y_{t-1} +  \\alpha_4 A_{t}+ \\alpha_5 A_{t-1} + \\alpha_6 L_t + \\alpha_7 L_{t-1} $$ \n",
    "\n",
    "\n",
    "<!---what quadratic time term needed to be added here? --->"
   ]
  },
  {
   "cell_type": "markdown",
   "metadata": {},
   "source": [
    "We first need to simulate the data. We will build out the covariates of the population.  For simplicity, we will use two binary covariates, $L_1$ and $L_2$.  Given a population of size $n$, we will assign probabilities as depicted in the image below.  \n",
    "\n",
    "![title](image2.png)\n",
    "\n",
    "Using these assigned covariates, we can also randomly assign treatment or not for $A$, for the entire population.  Then, using this information together, we can simulate the outcomes, $Y_{i,t}$ for the population.  "
   ]
  },
  {
   "cell_type": "code",
   "execution_count": 39,
   "metadata": {
    "collapsed": false
   },
   "outputs": [],
   "source": [
    "import pandas as pd\n",
    "import numpy as np\n",
    "import scipy as sp\n",
    "import sklearn as sk\n",
    "import math\n",
    "import csv\n",
    "import statsmodels.api as sm\n",
    "import statsmodels.formula.api as smf\n",
    "import random"
   ]
  },
  {
   "cell_type": "markdown",
   "metadata": {},
   "source": [
    "The data is being simulated using the following equations \n",
    "\n",
    "$$logit(L_k) = \\alpha_0 + \\alpha_1 \\cdot L_{k-1} + \\alpha_2 \\cdot L_{k-2} + \\alpha_3 A_{k-1} + \\alpha_4 A_{K-2}$$ \n",
    "\n",
    "\n",
    "$$ logit(A_k) = \\beta_0 + \\beta_1 L_{k} + \\beta_2 L_{k-1} + \\beta_3 A_{k-1} + \\beta_4 A_{K-2} $$ "
   ]
  },
  {
   "cell_type": "code",
   "execution_count": 15,
   "metadata": {
    "collapsed": false
   },
   "outputs": [],
   "source": [
    "## establishing constants \n",
    "indiv = 100   ## number of individuals in study \n",
    "# p1 = 0.75   ## probability of having covariate trait 1 \n",
    "# p2 = 0.75  ## probability of having covariate trait 2\n",
    "# pA = 0.5   ## probability of receiving treatment  \n",
    "\n",
    "\n",
    "time = 10 ## number of time points being considered \n",
    "t_delay = 2 ## number of time delays included in model \n",
    "\n",
    "## building out simulated data \n",
    "columns = [\"indiv\", \"time\", \"A\", \"Y\", \"U\", \"L1\"]\n",
    "df = pd.DataFrame(columns = columns)\n",
    "coefficient_df = pd.DataFrame(columns = [\"indiv\", \"alpha_0\", \"alpha_1\", \"alpha_2\", \"alpha_3\", \"alpha_4\", \"beta_0\", \"beta_1\", \"beta_2\", \"beta_3\", \"beta_4\"])\n",
    "df.head()\n",
    "\n",
    "for ii in range(1,indiv+1):\n",
    "    \n",
    "    alpha_0 = np.random.uniform(low = -1, high = 1)\n",
    "    alpha_1 = np.random.uniform(low = -1, high = 1)\n",
    "    alpha_2 = np.random.uniform(low = -1, high = 1)\n",
    "    alpha_3 = np.random.uniform(low = -1, high = 1)\n",
    "    alpha_4 = np.random.uniform(low = -1, high = 1)\n",
    "\n",
    "    beta_0 = np.random.uniform(low = -1, high = 1)\n",
    "    beta_1 = np.random.uniform(low = -1, high = 1)\n",
    "    beta_2 = np.random.uniform(low = -1, high = 1)\n",
    "    beta_3 = np.random.uniform(low = -1, high = 1)\n",
    "    beta_4 = np.random.uniform(low = -1, high = 1)\n",
    "    \n",
    "    coefficient_df.loc[len(coefficient_df)+1] = [ii, alpha_0, alpha_1, alpha_2, alpha_3, alpha_4, beta_0, beta_1, beta_2, beta_3, beta_4, ]\n",
    "     \n",
    "    for jj in range(0, time+1): \n",
    "        \n",
    "        ## creating an unobserved variable that affects covariates \n",
    "        U = np.random.uniform(low = 0.1, high = 1)\n",
    "            \n",
    "        if jj == 0: \n",
    "            x_L = alpha_0 + U \n",
    "            L1 = np.random.binomial(n=1, p = np.exp(x_L)/(1+np.exp(x_L)))\n",
    "            \n",
    "            x_A = beta_0 + U + beta_1*L1 \n",
    "            A = np.random.binomial(n=1, p = np.exp(x_A)/(1+np.exp(x_A)))\n",
    "            \n",
    "        elif jj == 1: \n",
    "            x_L = alpha_0 + alpha_1*float(df[\"L1\"][(df.time == jj-1) & (df.indiv == ii)])+alpha_3*float(df[\"A\"][(df.time == jj-1) & (df.indiv == ii)])\n",
    "            L1 = np.random.binomial(n=1, p = np.exp(x_L)/(1+np.exp(x_L)))\n",
    "\n",
    "            x_A = beta_0 + beta_1*L1 + beta_2*float(df[\"L1\"][(df.time == jj-1) & (df.indiv == ii)])+ beta_3*float(df[\"A\"][(df.time == jj-1) & (df.indiv == ii)])\n",
    "            A = np.random.binomial(n=1, p = np.exp(x_A)/(1+np.exp(x_A)))\n",
    "\n",
    "        else: \n",
    "            x_L = alpha_0 + alpha_1*float(df[\"L1\"][(df.time == jj-1) & (df.indiv == ii)])+alpha_2*float(df[\"L1\"][(df.time == jj-2) & (df.indiv == ii)])+alpha_3*float(df[\"A\"][(df.time == jj-1) & (df.indiv == ii)])+alpha_4*float(df[\"A\"][(df.time == jj-2) & (df.indiv == ii)])\n",
    "            L1 = np.random.binomial(n=1, p = np.exp(x_L)/(1+np.exp(x_L)))\n",
    "            \n",
    "        \n",
    "            x_A = beta_0 + beta_1*L1 + beta_2*float(df[\"L1\"][(df.time == jj-1) & (df.indiv == ii)])+ beta_3*float(df[\"A\"][(df.time == jj-1) & (df.indiv == ii)])+ beta_4*float(df[\"A\"][(df.time == jj-2) & (df.indiv == ii)])\n",
    "            A = np.random.binomial(n=1, p = np.exp(x_A)/(1+np.exp(x_A)))\n",
    "         \n",
    "        Y = np.random.normal(loc = U, scale = 1)\n",
    "        \n",
    "        df.loc[len(df)+1] = [ii, jj, A, Y, U, L1]"
   ]
  },
  {
   "cell_type": "code",
   "execution_count": 17,
   "metadata": {
    "collapsed": false
   },
   "outputs": [],
   "source": [
    "# creating shifted values \n",
    "df[\"A_1\"] = df.A.shift(1)\n",
    "df[\"A_2\"] = df.A.shift(2)\n",
    "df[\"Y_1\"] = df.Y.shift(1)\n",
    "df[\"Y_2\"] = df.Y.shift(2)\n",
    "df[\"L1_1\"] = df.L1.shift(1)\n",
    "df[\"L1_2\"] = df.L1.shift(2)\n",
    "\n",
    "df.to_csv(\"Sim_Data.csv\")"
   ]
  },
  {
   "cell_type": "markdown",
   "metadata": {},
   "source": [
    "Starting with the model for Y, we use a linear regression to get the following model, \n",
    "$$\\mathbb{E} \\big[Y_{t+1} \\mid \\overline{A}_t, \\overline{L}_t, \\overline{Y}_t \\big] = \\theta_{0,t} + \\theta_1 Y_{t} + \\theta_2 Y_{t-1} + \\theta_3 A_{t}+ \\theta_4 A_{t-1} + \\theta_5 L_t + \\theta_6 L_{t-1} $$ \n",
    "\n"
   ]
  },
  {
   "cell_type": "code",
   "execution_count": 18,
   "metadata": {
    "collapsed": false
   },
   "outputs": [],
   "source": [
    "columns = [\"time\", \"int\", \"A\", \"L1\", \"A_1\", \"A_2\", \"Y_1\", \"Y_2\", \"L1_1\", \"L1_2\"]\n",
    "Y_model_df = pd.DataFrame(columns = columns)\n",
    "## creating our models \n",
    "for ii in range(t_delay, time+1): \n",
    "    temp_df = df[df.time == ii]\n",
    "    Y_model = smf.ols('Y ~ A + L1 + A_1 + A_2 + Y.shift(1) + Y.shift(2) + L1_1 + L1_2', data=temp_df).fit()\n",
    "    Y_model_df = Y_model_df.append(pd.DataFrame([ii] + [Y_model.params[i] for i in range(0,9)], index = columns).transpose(), ignore_index=True)"
   ]
  },
  {
   "cell_type": "code",
   "execution_count": 19,
   "metadata": {
    "collapsed": false,
    "scrolled": true
   },
   "outputs": [],
   "source": [
    "Y_model_df.to_csv(\"Y_model_data.csv\")"
   ]
  },
  {
   "cell_type": "code",
   "execution_count": 90,
   "metadata": {
    "collapsed": false
   },
   "outputs": [
    {
     "name": "stdout",
     "output_type": "stream",
     "text": [
      "Optimization terminated successfully.\n",
      "         Current function value: 0.677269\n",
      "         Iterations 4\n",
      "Optimization terminated successfully.\n",
      "         Current function value: 0.677507\n",
      "         Iterations 4\n",
      "Optimization terminated successfully.\n",
      "         Current function value: 0.632987\n",
      "         Iterations 5\n",
      "Optimization terminated successfully.\n",
      "         Current function value: 0.663671\n",
      "         Iterations 4\n",
      "Optimization terminated successfully.\n",
      "         Current function value: 0.640181\n",
      "         Iterations 5\n",
      "Optimization terminated successfully.\n",
      "         Current function value: 0.632510\n",
      "         Iterations 5\n",
      "Optimization terminated successfully.\n",
      "         Current function value: 0.628300\n",
      "         Iterations 5\n",
      "Optimization terminated successfully.\n",
      "         Current function value: 0.627476\n",
      "         Iterations 5\n",
      "Optimization terminated successfully.\n",
      "         Current function value: 0.645710\n",
      "         Iterations 5\n",
      "Optimization terminated successfully.\n",
      "         Current function value: 0.646454\n",
      "         Iterations 5\n"
     ]
    }
   ],
   "source": [
    "## Creating model for L1 \n",
    "## SHOULD THIS INCLUDE Y??? \n",
    "\n",
    "columns = [\"time\", \"alpha_0\", \"alpha_1\", \"alpha_2\", \"alpha_3\", \"alpha_4\"]\n",
    "train_columns = [\"L1_1\", \"L1_2\", \"A_1\", \"A_2\"]\n",
    "L1_model_df = pd.DataFrame(columns = columns)\n",
    "\n",
    "for ii in range(1, time+1): \n",
    "    temp_df = df[df.time == ii]   \n",
    "    if ii == 1: \n",
    "        L1_model = sm.Logit(np.asarray(temp_df[\"L1\"]), np.asarray(sm.add_constant(temp_df[[\"L1_1\", \"A_1\"]]))).fit()\n",
    "        L1_model_df = L1_model_df.append(pd.DataFrame([ii] + [L1_model.params[i] for i in range(0,2)] + [\"Nan\"] + [L1_model.params[2]] + [\"Nan\"], index = columns).transpose(), ignore_index=True)\n",
    "    else: \n",
    "        L1_model = sm.Logit(np.asarray(temp_df[\"L1\"]), np.asarray(sm.add_constant(temp_df[train_columns]))).fit()\n",
    "        L1_model_df = L1_model_df.append(pd.DataFrame([ii] + [L1_model.params[i] for i in range(0,5)], index = columns).transpose(), ignore_index=True)\n",
    "    "
   ]
  },
  {
   "cell_type": "code",
   "execution_count": 91,
   "metadata": {
    "collapsed": false
   },
   "outputs": [
    {
     "name": "stdout",
     "output_type": "stream",
     "text": [
      "Optimization terminated successfully.\n",
      "         Current function value: 0.619917\n",
      "         Iterations 5\n",
      "Optimization terminated successfully.\n",
      "         Current function value: 0.683137\n",
      "         Iterations 4\n",
      "Optimization terminated successfully.\n",
      "         Current function value: 0.648152\n",
      "         Iterations 5\n",
      "Optimization terminated successfully.\n",
      "         Current function value: 0.642491\n",
      "         Iterations 5\n",
      "Optimization terminated successfully.\n",
      "         Current function value: 0.607466\n",
      "         Iterations 5\n",
      "Optimization terminated successfully.\n",
      "         Current function value: 0.672750\n",
      "         Iterations 4\n",
      "Optimization terminated successfully.\n",
      "         Current function value: 0.626664\n",
      "         Iterations 5\n",
      "Optimization terminated successfully.\n",
      "         Current function value: 0.643394\n",
      "         Iterations 5\n",
      "Optimization terminated successfully.\n",
      "         Current function value: 0.664249\n",
      "         Iterations 4\n",
      "Optimization terminated successfully.\n",
      "         Current function value: 0.662615\n",
      "         Iterations 4\n"
     ]
    }
   ],
   "source": [
    "## Creating model for A \n",
    "\n",
    "columns = [\"time\", \"beta_0\", \"beta_1\", \"beta_2\", \"beta_3\", \"beta_4\"] \n",
    "train_columns = [\"L1\", \"L1_1\", \"A_1\", \"A_2\"]\n",
    "A_model_df = pd.DataFrame(columns = columns)\n",
    "\n",
    "for ii in range(1, time+1): \n",
    "    temp_df = df[df.time == ii]\n",
    "    if ii == 1: \n",
    "        A_model = sm.Logit(np.asarray(temp_df[\"A\"]), np.asarray(sm.add_constant(temp_df[[\"L1\", \"L1_1\", \"A_1\"]]))).fit()\n",
    "        A_model_df = A_model_df.append(pd.DataFrame([ii] + [A_model.params[i] for i in range(0,4)] + [\"Nan\"], index = columns).transpose(), ignore_index=True)\n",
    "    else:\n",
    "        A_model = sm.Logit(np.asarray(temp_df[\"A\"]), np.asarray(sm.add_constant(temp_df[train_columns]))).fit()\n",
    "        A_model_df = A_model_df.append(pd.DataFrame([ii] + [A_model.params[i] for i in range(0,5)], index = columns).transpose(), ignore_index=True)\n",
    "   "
   ]
  },
  {
   "cell_type": "markdown",
   "metadata": {},
   "source": [
    "Now, using these three models, we can calculate the following expectations\n",
    "\n",
    "$$ \\mathbb{E} \\big[Y_{i}^{\\overline{a}}\\big]  = \\sum_{i} \\mathbb{E} \\big[Y_i \\mid A_{i-1} = a_{i-1},  \\; A_{i-2} = a_{i-2}, \\; L_{1, i-1}, \\; L_{1, i-2}, \\; L_{2, i-1}, \\; L_{2, i-2} \\big]$$ \n",
    "\n",
    "for the respective $\\bar{a} = \\bar{0}$ and $\\bar{a} = \\bar{1}$"
   ]
  },
  {
   "cell_type": "code",
   "execution_count": 92,
   "metadata": {
    "collapsed": false
   },
   "outputs": [
    {
     "data": {
      "text/html": [
       "<div>\n",
       "<table border=\"1\" class=\"dataframe\">\n",
       "  <thead>\n",
       "    <tr style=\"text-align: right;\">\n",
       "      <th></th>\n",
       "      <th>time</th>\n",
       "      <th>beta_0</th>\n",
       "      <th>beta_1</th>\n",
       "      <th>beta_2</th>\n",
       "      <th>beta_3</th>\n",
       "      <th>beta_4</th>\n",
       "    </tr>\n",
       "  </thead>\n",
       "  <tbody>\n",
       "    <tr>\n",
       "      <th>0</th>\n",
       "      <td>1</td>\n",
       "      <td>-0.736521</td>\n",
       "      <td>-0.658712</td>\n",
       "      <td>-0.260118</td>\n",
       "      <td>1.26892</td>\n",
       "      <td>Nan</td>\n",
       "    </tr>\n",
       "    <tr>\n",
       "      <th>1</th>\n",
       "      <td>2</td>\n",
       "      <td>-0.406433</td>\n",
       "      <td>0.061678</td>\n",
       "      <td>-0.100935</td>\n",
       "      <td>-0.1296</td>\n",
       "      <td>0.561374</td>\n",
       "    </tr>\n",
       "    <tr>\n",
       "      <th>2</th>\n",
       "      <td>3</td>\n",
       "      <td>0.329748</td>\n",
       "      <td>-0.386072</td>\n",
       "      <td>-0.720246</td>\n",
       "      <td>-0.0970855</td>\n",
       "      <td>1.00538</td>\n",
       "    </tr>\n",
       "    <tr>\n",
       "      <th>3</th>\n",
       "      <td>4</td>\n",
       "      <td>-0.930438</td>\n",
       "      <td>-0.288135</td>\n",
       "      <td>0.0260276</td>\n",
       "      <td>1.01494</td>\n",
       "      <td>0.590457</td>\n",
       "    </tr>\n",
       "    <tr>\n",
       "      <th>4</th>\n",
       "      <td>5</td>\n",
       "      <td>0.0983186</td>\n",
       "      <td>-0.742778</td>\n",
       "      <td>-0.7334</td>\n",
       "      <td>1.03745</td>\n",
       "      <td>0.714804</td>\n",
       "    </tr>\n",
       "  </tbody>\n",
       "</table>\n",
       "</div>"
      ],
      "text/plain": [
       "  time     beta_0    beta_1     beta_2     beta_3    beta_4\n",
       "0    1  -0.736521 -0.658712  -0.260118    1.26892       Nan\n",
       "1    2  -0.406433  0.061678  -0.100935    -0.1296  0.561374\n",
       "2    3   0.329748 -0.386072  -0.720246 -0.0970855   1.00538\n",
       "3    4  -0.930438 -0.288135  0.0260276    1.01494  0.590457\n",
       "4    5  0.0983186 -0.742778    -0.7334    1.03745  0.714804"
      ]
     },
     "execution_count": 92,
     "metadata": {},
     "output_type": "execute_result"
    }
   ],
   "source": [
    "A_model_df.head()"
   ]
  },
  {
   "cell_type": "code",
   "execution_count": 29,
   "metadata": {
    "collapsed": false
   },
   "outputs": [],
   "source": [
    "n = 1000 \n",
    "final_model_df = pd.DataFrame(columns = [\"time\", \"exp_Y_A1\", \"exp_Y_A0\"])\n",
    "\n",
    "for ii in range(0,n):\n",
    "    L0 = random.choce(list(df[\"L1\"][df[\"time\"] == 0]))\n",
    "    L1 = \n",
    "    \n",
    "    x_A = beta_0 + beta_1*L1 + beta_2*float(df[\"L1\"][(df.time == jj-1) & (df.indiv == ii)])+ beta_3*float(df[\"A\"][(df.time == jj-1) & (df.indiv == ii)])\n",
    "    A1 = A = np.random.binomial(n=1, p = np.exp(x_A)/(1+np.exp(x_A)))\n",
    "    \n",
    "    L2 = \n",
    "    for jj in range(t_delay, time):\n",
    "\n"
   ]
  },
  {
   "cell_type": "markdown",
   "metadata": {},
   "source": [
    "Calculating the final difference for each time, using the following\n",
    "$$ \\mathbb{E}\\big[Y^{a=1}\\big] - \\mathbb{E}\\big[Y^{a=0}\\big]$$ "
   ]
  },
  {
   "cell_type": "code",
   "execution_count": 62,
   "metadata": {
    "collapsed": false
   },
   "outputs": [
    {
     "data": {
      "text/plain": [
       "1.0"
      ]
     },
     "execution_count": 62,
     "metadata": {},
     "output_type": "execute_result"
    }
   ],
   "source": [
    "random.choice(list(L_0s))"
   ]
  },
  {
   "cell_type": "code",
   "execution_count": 59,
   "metadata": {
    "collapsed": false
   },
   "outputs": [
    {
     "data": {
      "text/plain": [
       "list"
      ]
     },
     "execution_count": 59,
     "metadata": {},
     "output_type": "execute_result"
    }
   ],
   "source": [
    "type(list(L_0s))"
   ]
  },
  {
   "cell_type": "code",
   "execution_count": null,
   "metadata": {
    "collapsed": true
   },
   "outputs": [],
   "source": []
  }
 ],
 "metadata": {
  "anaconda-cloud": {},
  "kernelspec": {
   "display_name": "Python [default]",
   "language": "python",
   "name": "python3"
  },
  "language_info": {
   "codemirror_mode": {
    "name": "ipython",
    "version": 3
   },
   "file_extension": ".py",
   "mimetype": "text/x-python",
   "name": "python",
   "nbconvert_exporter": "python",
   "pygments_lexer": "ipython3",
   "version": "3.5.2"
  }
 },
 "nbformat": 4,
 "nbformat_minor": 1
}
