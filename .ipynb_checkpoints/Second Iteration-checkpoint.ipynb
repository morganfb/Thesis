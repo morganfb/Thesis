{
 "cells": [
  {
   "cell_type": "markdown",
   "metadata": {},
   "source": [
    "We can establish our framework by defining the variables to be used.  We start with the outcome variable, $Y$.  Next, we consider out treatment variable, $A_k$, which takes on value 1 if there is treatment, and is 0 otherwise.  To begin, we will use treatment strategies that are exclusively treatment or exclusively no treatment, corresponding to $\\overline{a} = (1,1,\\dots,1) = \\overline{1}$ and $\\overline{a} = (0,0,\\dots,0) = \\overline{0}$ respectively.  The next measurable variable is $L$, which represents the covariate(s) to be included.  Note that both the covariates, $L$, and the outcome, $Y$ are affected by an unmeasured common cause, $U$.  The diagram below illustrates these relationships.  \n",
    "\n",
    "![title](image4.png)"
   ]
  },
  {
   "cell_type": "markdown",
   "metadata": {},
   "source": [
    "The purpose of this investigation is to measure the average causal effect of treatment, which can be estimated using \n",
    "$$ \\mathbb{E}\\big[Y^{a=1}\\big] - \\mathbb{E}\\big[Y^{a=0}\\big]$$ "
   ]
  },
  {
   "cell_type": "markdown",
   "metadata": {},
   "source": [
    "We want to build out the g-formula as follows  \n",
    "$$ \\mathbb{E} \\big[Y_{i}^{\\overline{a}}\\big]  = \\sum_{i} \\mathbb{E} \\big[Y_i \\mid A_{i-1} = a_{i-1},  \\; A_{i-2} = a_{i-2}, \\; L_{i-1}, \\; L_{i-2} \\big]$$ \n",
    "\n",
    "We can do this by building out two models, one for $Y$ And one for $L$.  We will begin by using a continous $Y$ and a binary $L$ for simplicity.  \n",
    "\n",
    "For $Y$, we will use a linear regression for a time delay of t=2.  The model will look something like this \n",
    "\n",
    "$$\\mathbb{E} \\big[Y_{t+1} \\mid \\overline{A}_t, \\overline{L}_t, \\overline{Y}_t \\big] = \\theta_{0,t} + \\theta_1 Y_{t} + \\theta_2 Y_{t-1} + \\theta_3 A_{t}+ \\theta_4 A_{t-1} + \\theta_5 L_t + \\theta_6 L_{t-1} $$ \n",
    "\n",
    "For each $L$, we will use a logistic regression, also calculated on a time delay of t=2.  This will give us something similar to \n",
    "$$ logistP\\big[L_{t+1} \\mid \\overline{A}_t, \\overline{L}_t, \\overline{Y}_{t+1} \\big] = \\alpha_{0,t} + \\alpha_1 Y_{t+1} + \\alpha_2 Y_{t} + \\alpha_3 Y_{t-1} +  \\alpha_4 A_{t}+ \\alpha_5 A_{t-1} + \\alpha_6 L_t + \\alpha_7 L_{t-1} $$ \n",
    "\n",
    "\n",
    "<!---what quadratic time term needed to be added here? --->"
   ]
  },
  {
   "cell_type": "markdown",
   "metadata": {},
   "source": [
    "We first need to simulate the data. We will build out the covariates of the population.  For simplicity, we will use one binary covariate, $L_1$.  \n",
    "\n",
    "The data is being simulated using the following equations, where U is an underlying confounder.  \n",
    "\n",
    "$$logitP[L_k] = \\alpha_0 + \\alpha_1 \\cdot L_{k-1} + \\alpha_2 \\cdot L_{k-2} + \\alpha_3 A_{k-1} + \\alpha_4 A_{K-2} + \\alpha_5 U$$ \n",
    "\n",
    "\n",
    "$$ logit[A_k] = \\beta_0 + \\beta_1 L_{k} + \\beta_2 L_{k-1} + \\beta_3 A_{k-1} + \\beta_4 A_{K-2} $$ \n",
    "\n",
    "Then, an end $Y$ value will be pulled from the following \n",
    "$$ Y \\sim N(\\mu = U, \\sigma = 1) $$ "
   ]
  },
  {
   "cell_type": "code",
   "execution_count": 207,
   "metadata": {
    "collapsed": false
   },
   "outputs": [],
   "source": [
    "import pandas as pd\n",
    "import numpy as np\n",
    "import scipy as sp\n",
    "import sklearn as sk\n",
    "import math\n",
    "import csv\n",
    "import statsmodels.api as sm\n",
    "import statsmodels.formula.api as smf\n",
    "import random"
   ]
  },
  {
   "cell_type": "code",
   "execution_count": 158,
   "metadata": {
    "collapsed": false
   },
   "outputs": [],
   "source": [
    "#########################################################################\n",
    "##[FUNCTION] data_creation simulates data for a given number of \n",
    "## individuals(indiv) over a set amount of time (max_time), and can \n",
    "## include as many covariates as desired (number_of_covariates)\n",
    "\n",
    "## -- need to create the functionality for multiple covariates\n",
    "\n",
    "#########################################################################\n",
    "\n",
    "\n",
    "def data_creation(indiv, max_time, number_of_covariates): \n",
    "\n",
    "    columns = [\"indiv\", \"time\",\"U\", \"A\", \"Y\",  \"L1\"]\n",
    "    df = pd.DataFrame(columns = columns)\n",
    "    coefficient_df = pd.DataFrame(columns = [\"indiv\", \"alpha_0\", \"alpha_1\", \\\n",
    "                     \"alpha_2\", \"alpha_3\", \"alpha_4\", \"alpha_5\", \"beta_0\", \\\n",
    "                     \"beta_1\", \"beta_2\", \"beta_3\", \"beta_4\"])\n",
    "\n",
    "    for ii in range(1,indiv+1):\n",
    "\n",
    "        alpha_0 = np.random.uniform(low = -1, high = 1)\n",
    "        alpha_1 = np.random.uniform(low = -1, high = 1)\n",
    "        alpha_2 = np.random.uniform(low = -1, high = 1)\n",
    "        alpha_3 = np.random.uniform(low = -1, high = 1)\n",
    "        alpha_4 = np.random.uniform(low = -1, high = 1)\n",
    "        alpha_5 = np.random.uniform(low = -1, high = 1)\n",
    "\n",
    "        beta_0 = np.random.uniform(low = -1, high = 1)\n",
    "        beta_1 = np.random.uniform(low = -1, high = 1)\n",
    "        beta_2 = np.random.uniform(low = -1, high = 1)\n",
    "        beta_3 = np.random.uniform(low = -1, high = 1)\n",
    "        beta_4 = np.random.uniform(low = -1, high = 1)\n",
    "\n",
    "        coefficient_df.loc[len(coefficient_df)+1] = [ii, alpha_0, alpha_1, alpha_2, \\\n",
    "                alpha_3, alpha_4, alpha_5, beta_0, beta_1, beta_2, beta_3, beta_4, ]\n",
    "\n",
    "        for jj in range(0, time+1): \n",
    "\n",
    "            ## creating an unobserved variable that affects covariates \n",
    "            U = np.random.uniform(low = 0.1, high = 1)\n",
    "\n",
    "            if jj == 0: \n",
    "                x_L = alpha_0 + alpha_5*U \n",
    "                L1 = np.random.binomial(n=1, p = np.exp(x_L)/(1+np.exp(x_L)))\n",
    "\n",
    "                x_A = beta_0 + beta_1*L1 \n",
    "                A = np.random.binomial(n=1, p = np.exp(x_A)/(1+np.exp(x_A)))\n",
    "\n",
    "                df.loc[len(df)+1] = [ii, jj, U, A, \"NaN\",  L1]\n",
    "\n",
    "            elif jj == 1: \n",
    "                x_L = alpha_0 + alpha_1*float(df[\"L1\"][(df.time == jj-1) & (df.indiv == ii)]) \\\n",
    "                    +alpha_3*float(df[\"A\"][(df.time == jj-1) & (df.indiv == ii)])+ alpha_5*U \n",
    "                \n",
    "                L1 = np.random.binomial(n=1, p = np.exp(x_L)/(1+np.exp(x_L)))\n",
    "\n",
    "                \n",
    "                x_A = beta_0 + beta_1*L1 + beta_2*float(df[\"L1\"][(df.time == jj-1) & (df.indiv == ii)])\\\n",
    "                    + beta_3*float(df[\"A\"][(df.time == jj-1) & (df.indiv == ii)])\n",
    "                \n",
    "                A = np.random.binomial(n=1, p = np.exp(x_A)/(1+np.exp(x_A)))\n",
    "\n",
    "                df.loc[len(df)+1] = [ii, jj, U, A, \"NaN\", L1]\n",
    "\n",
    "            else: \n",
    "                x_L = alpha_0 + alpha_1*float(df[\"L1\"][(df.time == jj-1) & (df.indiv == ii)])\\\n",
    "                    +alpha_2*float(df[\"L1\"][(df.time == jj-2) & (df.indiv == ii)])\\\n",
    "                    +alpha_3*float(df[\"A\"][(df.time == jj-1) & (df.indiv == ii)])\\\n",
    "                    +alpha_4*float(df[\"A\"][(df.time == jj-2) & (df.indiv == ii)])+ alpha_5*U \n",
    "                \n",
    "                L1 = np.random.binomial(n=1, p = np.exp(x_L)/(1+np.exp(x_L)))\n",
    "\n",
    "\n",
    "                x_A = beta_0 + beta_1*L1 + beta_2*float(df[\"L1\"][(df.time == jj-1) & (df.indiv == ii)])\\\n",
    "                    + beta_3*float(df[\"A\"][(df.time == jj-1) & (df.indiv == ii)])+ \\\n",
    "                    beta_4*float(df[\"A\"][(df.time == jj-2) & (df.indiv == ii)])\n",
    "                \n",
    "                A = np.random.binomial(n=1, p = np.exp(x_A)/(1+np.exp(x_A)))\n",
    "\n",
    "                if jj == time: \n",
    "                    Y = np.random.normal(loc = U, scale = 1)\n",
    "                    df.loc[len(df)+1] = [ii, jj, U, A, Y, L1]\n",
    "\n",
    "                else: \n",
    "                    df.loc[len(df)+1] = [ii, jj, U, A, \"NaN\", L1]\n",
    "\n",
    "    # creating shifted values \n",
    "    for kk in range(1,time+1):\n",
    "        df[\"L1_\"+str(kk)] = df.L1.shift(kk)\n",
    "        df[\"A_\"+str(kk)] = df.A.shift(kk)\n",
    "\n",
    "    return(df, coefficient_df); "
   ]
  },
  {
   "cell_type": "markdown",
   "metadata": {},
   "source": [
    "Starting with the model for Y, we use a linear regression to get the following model, \n",
    "$$\\mathbb{E} \\big[Y \\mid \\overline{A}_t, \\overline{L}_t \\big] = \\theta_{0,t} + \\theta_1 A_{t}+ \\theta_2 A_{t-1} + \\theta_3 L_t + \\theta_4 L_{t-1} $$ "
   ]
  },
  {
   "cell_type": "code",
   "execution_count": 214,
   "metadata": {
    "collapsed": true
   },
   "outputs": [
    {
     "data": {
      "text/plain": [
       "Intercept    0.599424\n",
       "A           -0.003975\n",
       "L1          -0.051260\n",
       "L1_1        -0.026176\n",
       "A_1         -0.113576\n",
       "L1_2        -0.238071\n",
       "A_2          0.062454\n",
       "L1_3        -0.144556\n",
       "A_3         -0.138073\n",
       "L1_4         0.030054\n",
       "A_4         -0.058287\n",
       "L1_5         0.044423\n",
       "A_5          0.028993\n",
       "L1_6         0.051803\n",
       "A_6         -0.086675\n",
       "L1_7         0.035478\n",
       "A_7         -0.034772\n",
       "L1_8         0.054085\n",
       "A_8          0.364999\n",
       "L1_9         0.114728\n",
       "A_9         -0.006222\n",
       "L1_10       -0.026078\n",
       "A_10         0.059047\n",
       "dtype: float64"
      ]
     },
     "execution_count": 214,
     "metadata": {},
     "output_type": "execute_result"
    }
   ],
   "source": [
    "## Creating model for Y \n",
    "\n",
    "def Y_model_creation(df, max_time): \n",
    "    temp_df = df[df.time == max_time]\n",
    "    train_columns ='+'.join(map(str, np.append(list(df)[3],list(df)[5:])))\n",
    "    temp_df = temp_df.astype(float)\n",
    "    Y_model = smf.ols(\"Y~\"+train_columns, data=temp_df).fit()\n",
    "    return(Y_model)"
   ]
  },
  {
   "cell_type": "code",
   "execution_count": 347,
   "metadata": {
    "collapsed": true
   },
   "outputs": [],
   "source": [
    "## Creating model for L1\n",
    "\n",
    "def covariate_model_creation(df, max_time): \n",
    "    columns = [\"time\", \"gamma_0\", \"gamma_1\", \"gamma_2\", \"gamma_3\", \"gamma_4\"]\n",
    "    train_columns = [\"L1_1\", \"L1_2\", \"A_1\", \"A_2\"]\n",
    "    L1_model_df = pd.DataFrame(columns = columns)\n",
    "\n",
    "    for ii in range(1, max_time+1): \n",
    "        temp_df = df[df.time == ii]   \n",
    "        if ii == 1: \n",
    "            L1_model = sm.Logit(np.asarray(temp_df[\"L1\"]), np.asarray(sm.add_constant(temp_df[[\"L1_1\", \"A_1\"]]))).fit()\n",
    "            L1_model_df = L1_model_df.append(pd.DataFrame([ii] + [L1_model.params[i] for i in range(0,2)] + [\"Nan\"] + [L1_model.params[2]] + [\"Nan\"], index = columns).transpose(), ignore_index=True)\n",
    "        else: \n",
    "            L1_model = sm.Logit(np.asarray(temp_df[\"L1\"]), np.asarray(sm.add_constant(temp_df[train_columns]))).fit()\n",
    "            L1_model_df = L1_model_df.append(pd.DataFrame([ii] + [L1_model.params[i] for i in range(0,5)], index = columns).transpose(), ignore_index=True)\n",
    "    return(L1_model_df)"
   ]
  },
  {
   "cell_type": "markdown",
   "metadata": {},
   "source": [
    "## Running the Monte Carlo Simulation\n",
    "Now, using these three models, we can calculate the treatment effect of \n",
    "\n",
    "$$ \\mathbb{E}\\big[Y^{a=1}\\big] - \\mathbb{E}\\big[Y^{a=0}\\big]$$ \n",
    "\n",
    "where \n",
    "\n",
    "$$ \\mathbb{E} \\big[Y^{\\overline{a}}\\big]  = \\sum_{i} \\mathbb{E} \\big[Y \\mid A_{i-1} = a_{i-1},  \\; A_{i-2} = a_{i-2}, \\; L_{1, i-1}, \\; L_{1, i-2},\\big]$$ \n",
    "\n",
    "for the respective $\\bar{a} = \\bar{0}$ and $\\bar{a} = \\bar{1}$"
   ]
  },
  {
   "cell_type": "code",
   "execution_count": 346,
   "metadata": {
    "collapsed": false
   },
   "outputs": [],
   "source": [
    "def simulation_run(df, Y_model, L1_model_df, max_time): \n",
    "    reps = 100000\n",
    "    final_results_1 = np.empty(reps) \n",
    "\n",
    "    ### establishing treatment of interest\n",
    "    A_test = [1]*max_time\n",
    "\n",
    "    for ii in range(0,reps):\n",
    "        values = np.empty(max_time)\n",
    "        values[0] = random.choice(list(df[\"L1\"][df[\"time\"] == 0]))\n",
    "        if values[0] == 0: \n",
    "            prod = 1-np.mean(list(df[\"L1\"][df[\"time\"] == 0]))\n",
    "        else: \n",
    "            prod = np.mean(list(df[\"L1\"][df[\"time\"] == 0]))\n",
    "\n",
    "        for jj in range(1, max_time):\n",
    "            if jj == 1: \n",
    "                values[1] = np.sum(np.array([L1_model_df.ix[jj-1,][i] for i in [1,2,4]])*[1,values[jj-1],A_test[jj-1]])\n",
    "            else: \n",
    "                values[jj] = np.sum(np.array([L1_model_df.ix[jj-1,][i] for i in range(1,6)])*[1,values[jj-1],values[jj-2], A_test[jj-1], A_test[jj-2]])\n",
    "            prod = prod*(np.exp(values[jj])/(1+np.exp(values[jj])))\n",
    "\n",
    "        list1 = [A_test[time-i] for i in range(1,time+2)]\n",
    "        list2 = [values[time-i] for i in range(1,time+2)]\n",
    "\n",
    "        result = [None]*(len(list1)+len(list2))\n",
    "        result[::2] = list1\n",
    "        result[1::2] = list2\n",
    "        result = [1] + result\n",
    "\n",
    "        Y_exp = np.sum(np.array(Y_model.params)*result)\n",
    "\n",
    "        final_results_1[ii] = prod*Y_exp\n",
    "\n",
    "    mean_1 = np.mean(final_results_1)\n",
    "\n",
    "\n",
    "    final_results_0 = np.empty(reps) \n",
    "    A_test = [0]*max_time\n",
    "\n",
    "    for ii in range(0,reps):\n",
    "        values = np.empty(max_time)\n",
    "        values[0] = random.choice(list(df[\"L1\"][df[\"time\"] == 0]))\n",
    "        if values[0] == 0: \n",
    "            prod = 1-np.mean(list(df[\"L1\"][df[\"time\"] == 0]))\n",
    "        else: \n",
    "            prod = np.mean(list(df[\"L1\"][df[\"time\"] == 0]))\n",
    "\n",
    "        for jj in range(1, max_time):\n",
    "            if jj == 1: \n",
    "                values[1] = np.sum(np.array([L1_model_df.ix[jj-1,][i] for i in [1,2,4]])*[1,values[jj-1],A_test[jj-1]])\n",
    "            else: \n",
    "                values[jj] = np.sum(np.array([L1_model_df.ix[jj-1,][i] for i in range(1,6)])*[1,values[jj-1],values[jj-2], A_test[jj-1], A_test[jj-2]])\n",
    "            prod = prod*(np.exp(values[jj])/(1+np.exp(values[jj])))\n",
    "\n",
    "        list1 = [A_test[time-i] for i in range(1,time+2)]\n",
    "        list2 = [values[time-i] for i in range(1,time+2)]\n",
    "\n",
    "        result = [None]*(len(list1)+len(list2))\n",
    "        result[::2] = list1\n",
    "        result[1::2] = list2\n",
    "        result = [1] + result\n",
    "\n",
    "        Y_exp = np.sum(np.array(Y_model.params)*result)\n",
    "\n",
    "        final_results_0[ii] = prod*Y_exp\n",
    "\n",
    "    mean_0 = np.mean(final_results_0)\n",
    "    final_answer = mean_1 - mean_0 \n",
    "    return(final_answer) "
   ]
  },
  {
   "cell_type": "markdown",
   "metadata": {},
   "source": [
    "Calculating the final difference for each time, using the following\n",
    "$$ \\mathbb{E}\\big[Y^{a=1}\\big] - \\mathbb{E}\\big[Y^{a=0}\\big]$$ "
   ]
  },
  {
   "cell_type": "code",
   "execution_count": null,
   "metadata": {
    "collapsed": true
   },
   "outputs": [],
   "source": [
    "## establishing constants \n",
    "indiv = 500   ## number of individuals in study \n",
    "max_time = 10 ## number of time points being considered \n",
    "t_delay = 2 ## number of time delays included in model \n",
    "\n",
    "## Building out simulated data \n",
    "[df, coefficient_df] = data_creation(indiv,max_time, 2)\n",
    "Y_model_creation(df, max_time, time)\n",
    "covariate_model_creation(df, time)\n",
    "\n",
    "simulation_run(df, Y_model, L1_model_df, max_time)\n"
   ]
  }
 ],
 "metadata": {
  "anaconda-cloud": {},
  "kernelspec": {
   "display_name": "Python [default]",
   "language": "python",
   "name": "python3"
  },
  "language_info": {
   "codemirror_mode": {
    "name": "ipython",
    "version": 3
   },
   "file_extension": ".py",
   "mimetype": "text/x-python",
   "name": "python",
   "nbconvert_exporter": "python",
   "pygments_lexer": "ipython3",
   "version": "3.5.2"
  }
 },
 "nbformat": 4,
 "nbformat_minor": 1
}
