{
 "cells": [
  {
   "cell_type": "markdown",
   "metadata": {},
   "source": [
    "We can establish our framework by defining the variables to be used.  We start with the outcome variable, $Y$.  Next, we consider out treatment variable, $A_k$, which takes on value 1 if there is treatment, and is 0 otherwise.  To begin, we will use treatment strategies that are exclusively treatment or exclusively no treatment, corresponding to $\\overline{a} = (1,1,\\dots,1) = \\overline{1}$ and $\\overline{a} = (0,0,\\dots,0) = \\overline{0}$ respectively.  The next measurable variable is $L$, which represents the covariate(s) to be included.  Note that both the covariates, $L$, and the outcome, $Y$ are affected by an unmeasured common cause, $U$.  The diagram below illustrates these relationships.  \n",
    "\n",
    "![title](image1.png)"
   ]
  },
  {
   "cell_type": "markdown",
   "metadata": {},
   "source": [
    "The purpose of this investigation is to measure the average causal effect of treatment, which can be estimated using \n",
    "$$ \\mathbb{E}\\big[Y^{a=1}\\big] - \\mathbb{E}\\big[Y^{a=0}\\big]$$ "
   ]
  },
  {
   "cell_type": "markdown",
   "metadata": {},
   "source": [
    "We want to build out the g-formula as follows  \n",
    "$$ \\mathbb{E} \\big[Y_{i}^{\\overline{a}}\\big]  = \\sum_{i} \\mathbb{E} \\big[Y_i \\mid A_{i-1} = a_{i-1},  \\; A_{i-2} = a_{i-2}, \\; L_{i-1}, \\; L_{i-2} \\big]$$ \n",
    "\n",
    "We can do this by building out two models, one for $Y$ And one for $L$.  We will begin by using a continous $Y$ and a binary $L$ for simplicity.  \n",
    "\n",
    "For $Y$, we will use a linear regression for a time delay of t=2.  The model will look something like this \n",
    "\n",
    "$$\\mathbb{E} \\big[Y_{t+1} \\mid \\overline{A}_t, \\overline{L}_t, \\overline{Y}_t \\big] = \\theta_{0,t} + \\theta_1 Y_{t} + \\theta_2 Y_{t-1} + \\theta_3 A_{t}+ \\theta_4 A_{t-1} + \\theta_5 L_t + \\theta_6 L_{t-1} $$ \n",
    "\n",
    "For $L$, we will use a logistic regression, also calculated on a time delay of t=2.  This will give us something similar to \n",
    "$$ logistP\\big[L_{t+1} \\mid \\overline{A}_t, \\overline{L}_t, \\overline{Y}_{t+1} \\big] = \\alpha_{0,t} + \\alpha_1 Y_{t+1} + \\alpha_2 Y_{t} + \\alpha_3 Y_{t-1} +  \\alpha_4 A_{t}+ \\alpha_5 A_{t-1} + \\alpha_6 L_t + \\alpha_7 L_{t-1} $$ \n",
    "\n",
    "\n",
    "<!---what quadratic time term needed to be added here? --->"
   ]
  },
  {
   "cell_type": "code",
   "execution_count": null,
   "metadata": {
    "collapsed": true
   },
   "outputs": [],
   "source": []
  },
  {
   "cell_type": "markdown",
   "metadata": {},
   "source": [
    "We first need to simulate the data. We will first build out the covariates of the population.  For simplicity, we will use two binary covariates, $L_1$ and $L_2$.  Given a population of size $n$, we will assign probabilities as depicted in the image below.  \n",
    "\n",
    "![title](image2.png)\n",
    "\n",
    "Using these assigned covariates, we can also randomly assign treatment or not for $A$, for the entire population.  Then, using this information together, we can simulate the outcomes, $Y_{i,t}$ for the population.  "
   ]
  },
  {
   "cell_type": "code",
   "execution_count": 1,
   "metadata": {
    "collapsed": false
   },
   "outputs": [],
   "source": [
    "import sklearn as sk\n",
    "import pandas as pd\n",
    "import numpy as np\n",
    "import scipy as sp\n",
    "import math\n",
    "import csv\n",
    "import statsmodels.api as sm\n",
    "import statsmodels.formula.api as smf"
   ]
  },
  {
   "cell_type": "code",
   "execution_count": 2,
   "metadata": {
    "collapsed": false
   },
   "outputs": [],
   "source": [
    "## establishing constants \n",
    "n = 100   ## number of individuals in study \n",
    "p1 = 0.75   ## probability of having covariate trait 1 \n",
    "p2 = 0.75  ## probability of having covariate trait 2\n",
    "pA = 0.5   ## probability of receiving treatment  \n",
    "time = 10 ## number of time points being considered \n",
    "t_delay = 2 ## number of time delays included in model \n",
    "\n",
    "## building out simulated data \n",
    "columns = [\"index\", \"time\", \"A\", \"Y\", \"U\", \"L1\", \"L2\"]\n",
    "df = pd.DataFrame(columns = columns)\n",
    "df.head()\n",
    "\n",
    "for ii in range(1,n+1):\n",
    "    ## assuming a continuous treatment here \n",
    "    A = 3*np.random.binomial(n=1, p=pA)\n",
    "    \n",
    "    ## creating an unobserved variable that affects covariates \n",
    "    U = np.random.uniform(low = 0.1, high = 1)\n",
    "    \n",
    "    ## assuming first covariate is constant \n",
    "    L1 = np.random.binomial(n=1, p=p1*U)\n",
    "    \n",
    "    \n",
    "    for jj in range(0, time+1): \n",
    "        if jj == 0: \n",
    "            L2 = 1 \n",
    "            \n",
    "        L2 = np.random.binomial(n = 1, p=p2*L2)\n",
    "        \n",
    "        Y = np.random.normal(loc = A+L1+L2, scale = 1)\n",
    "        \n",
    "        df.loc[len(df)+1] = [ii, jj, A, Y, U, L1, L2]\n",
    "# df.head(200)"
   ]
  },
  {
   "cell_type": "code",
   "execution_count": 3,
   "metadata": {
    "collapsed": false
   },
   "outputs": [
    {
     "name": "stderr",
     "output_type": "stream",
     "text": [
      "/Users/morganfbreitmeyer/anaconda/envs/py3k/lib/python3.5/site-packages/ipykernel/__main__.py:16: SettingWithCopyWarning: \n",
      "A value is trying to be set on a copy of a slice from a DataFrame\n",
      "\n",
      "See the caveats in the documentation: http://pandas.pydata.org/pandas-docs/stable/indexing.html#indexing-view-versus-copy\n",
      "/Users/morganfbreitmeyer/anaconda/envs/py3k/lib/python3.5/site-packages/ipykernel/__main__.py:17: SettingWithCopyWarning: \n",
      "A value is trying to be set on a copy of a slice from a DataFrame\n",
      "\n",
      "See the caveats in the documentation: http://pandas.pydata.org/pandas-docs/stable/indexing.html#indexing-view-versus-copy\n",
      "/Users/morganfbreitmeyer/anaconda/envs/py3k/lib/python3.5/site-packages/ipykernel/__main__.py:18: SettingWithCopyWarning: \n",
      "A value is trying to be set on a copy of a slice from a DataFrame\n",
      "\n",
      "See the caveats in the documentation: http://pandas.pydata.org/pandas-docs/stable/indexing.html#indexing-view-versus-copy\n",
      "/Users/morganfbreitmeyer/anaconda/envs/py3k/lib/python3.5/site-packages/ipykernel/__main__.py:19: SettingWithCopyWarning: \n",
      "A value is trying to be set on a copy of a slice from a DataFrame\n",
      "\n",
      "See the caveats in the documentation: http://pandas.pydata.org/pandas-docs/stable/indexing.html#indexing-view-versus-copy\n",
      "/Users/morganfbreitmeyer/anaconda/envs/py3k/lib/python3.5/site-packages/ipykernel/__main__.py:20: SettingWithCopyWarning: \n",
      "A value is trying to be set on a copy of a slice from a DataFrame\n",
      "\n",
      "See the caveats in the documentation: http://pandas.pydata.org/pandas-docs/stable/indexing.html#indexing-view-versus-copy\n",
      "/Users/morganfbreitmeyer/anaconda/envs/py3k/lib/python3.5/site-packages/ipykernel/__main__.py:22: SettingWithCopyWarning: \n",
      "A value is trying to be set on a copy of a slice from a DataFrame\n",
      "\n",
      "See the caveats in the documentation: http://pandas.pydata.org/pandas-docs/stable/indexing.html#indexing-view-versus-copy\n",
      "/Users/morganfbreitmeyer/anaconda/envs/py3k/lib/python3.5/site-packages/ipykernel/__main__.py:23: SettingWithCopyWarning: \n",
      "A value is trying to be set on a copy of a slice from a DataFrame\n",
      "\n",
      "See the caveats in the documentation: http://pandas.pydata.org/pandas-docs/stable/indexing.html#indexing-view-versus-copy\n",
      "/Users/morganfbreitmeyer/anaconda/envs/py3k/lib/python3.5/site-packages/ipykernel/__main__.py:24: SettingWithCopyWarning: \n",
      "A value is trying to be set on a copy of a slice from a DataFrame\n",
      "\n",
      "See the caveats in the documentation: http://pandas.pydata.org/pandas-docs/stable/indexing.html#indexing-view-versus-copy\n",
      "/Users/morganfbreitmeyer/anaconda/envs/py3k/lib/python3.5/site-packages/ipykernel/__main__.py:25: SettingWithCopyWarning: \n",
      "A value is trying to be set on a copy of a slice from a DataFrame\n",
      "\n",
      "See the caveats in the documentation: http://pandas.pydata.org/pandas-docs/stable/indexing.html#indexing-view-versus-copy\n"
     ]
    }
   ],
   "source": [
    "## creating shifted values for \n",
    "df[\"A_1\"] = df.A.shift(1)\n",
    "df[\"A_2\"] = df.A.shift(2)\n",
    "df[\"Y_1\"] = df.Y.shift(1)\n",
    "df[\"Y_2\"] = df.Y.shift(2)\n",
    "df[\"L1_1\"] = df.L1.shift(1)\n",
    "df[\"L1_2\"] = df.L1.shift(2)\n",
    "df[\"L2_1\"] = df.L2.shift(1)\n",
    "df[\"L2_2\"] = df.L2.shift(2)\n",
    "\n",
    "\n",
    "## making sure individuals' values dont get muddled \n",
    "df[\"A_1\"][df.time == 0] = 0\n",
    "df[\"A_2\"][df.time == 0] = 0\n",
    "df[\"Y_1\"][df.time == 0] = \"NaN\"  ## WHAT SHOULD THIS BE EQUAL TO???\n",
    "df[\"Y_2\"][df.time == 0] = \"NaN\"\n",
    "df[\"L1_1\"][df.time == 0] = df[\"L1\"][df.time == 0]\n",
    "df[\"L1_2\"][df.time == 0] = df[\"L1\"][df.time == 0]\n",
    "df[\"L2_1\"][df.time == 0] = df[\"L2\"][df.time == 0]\n",
    "df[\"L2_2\"][df.time == 0] = df[\"L2\"][df.time == 0]\n",
    "\n",
    "df[\"A_2\"][df.time == 1] = 0\n",
    "df[\"Y_2\"][df.time == 1] = \"NaN\"\n",
    "df[\"L1_2\"][df.time == 1] = df[\"L1\"][df.time == 0]\n",
    "df[\"L2_2\"][df.time == 1] = df[\"L2\"][df.time == 0]\n",
    "\n",
    "# df.to_csv(\"Sim_Data.csv\")"
   ]
  },
  {
   "cell_type": "code",
   "execution_count": null,
   "metadata": {
    "collapsed": false
   },
   "outputs": [
    {
     "data": {
      "text/html": [
       "<div>\n",
       "<table border=\"1\" class=\"dataframe\">\n",
       "  <thead>\n",
       "    <tr style=\"text-align: right;\">\n",
       "      <th></th>\n",
       "      <th>index</th>\n",
       "      <th>time</th>\n",
       "      <th>A</th>\n",
       "      <th>Y</th>\n",
       "      <th>U</th>\n",
       "      <th>L1</th>\n",
       "      <th>L2</th>\n",
       "      <th>A_1</th>\n",
       "      <th>A_2</th>\n",
       "      <th>Y_1</th>\n",
       "      <th>Y_2</th>\n",
       "      <th>L1_1</th>\n",
       "      <th>L1_2</th>\n",
       "      <th>L2_1</th>\n",
       "      <th>L2_2</th>\n",
       "    </tr>\n",
       "  </thead>\n",
       "  <tbody>\n",
       "    <tr>\n",
       "      <th>1</th>\n",
       "      <td>1.0</td>\n",
       "      <td>0.0</td>\n",
       "      <td>0.0</td>\n",
       "      <td>0.490524</td>\n",
       "      <td>0.846235</td>\n",
       "      <td>1.0</td>\n",
       "      <td>0.0</td>\n",
       "      <td>0.0</td>\n",
       "      <td>0.0</td>\n",
       "      <td>NaN</td>\n",
       "      <td>NaN</td>\n",
       "      <td>1.0</td>\n",
       "      <td>1.0</td>\n",
       "      <td>0.0</td>\n",
       "      <td>0.0</td>\n",
       "    </tr>\n",
       "    <tr>\n",
       "      <th>2</th>\n",
       "      <td>1.0</td>\n",
       "      <td>1.0</td>\n",
       "      <td>0.0</td>\n",
       "      <td>2.862000</td>\n",
       "      <td>0.846235</td>\n",
       "      <td>1.0</td>\n",
       "      <td>0.0</td>\n",
       "      <td>0.0</td>\n",
       "      <td>0.0</td>\n",
       "      <td>0.490524</td>\n",
       "      <td>NaN</td>\n",
       "      <td>1.0</td>\n",
       "      <td>NaN</td>\n",
       "      <td>0.0</td>\n",
       "      <td>NaN</td>\n",
       "    </tr>\n",
       "    <tr>\n",
       "      <th>3</th>\n",
       "      <td>1.0</td>\n",
       "      <td>2.0</td>\n",
       "      <td>0.0</td>\n",
       "      <td>0.509378</td>\n",
       "      <td>0.846235</td>\n",
       "      <td>1.0</td>\n",
       "      <td>0.0</td>\n",
       "      <td>0.0</td>\n",
       "      <td>0.0</td>\n",
       "      <td>2.862</td>\n",
       "      <td>0.490524</td>\n",
       "      <td>1.0</td>\n",
       "      <td>1.0</td>\n",
       "      <td>0.0</td>\n",
       "      <td>0.0</td>\n",
       "    </tr>\n",
       "    <tr>\n",
       "      <th>4</th>\n",
       "      <td>1.0</td>\n",
       "      <td>3.0</td>\n",
       "      <td>0.0</td>\n",
       "      <td>2.486942</td>\n",
       "      <td>0.846235</td>\n",
       "      <td>1.0</td>\n",
       "      <td>0.0</td>\n",
       "      <td>0.0</td>\n",
       "      <td>0.0</td>\n",
       "      <td>0.509378</td>\n",
       "      <td>2.862</td>\n",
       "      <td>1.0</td>\n",
       "      <td>1.0</td>\n",
       "      <td>0.0</td>\n",
       "      <td>0.0</td>\n",
       "    </tr>\n",
       "    <tr>\n",
       "      <th>5</th>\n",
       "      <td>1.0</td>\n",
       "      <td>4.0</td>\n",
       "      <td>0.0</td>\n",
       "      <td>0.282136</td>\n",
       "      <td>0.846235</td>\n",
       "      <td>1.0</td>\n",
       "      <td>0.0</td>\n",
       "      <td>0.0</td>\n",
       "      <td>0.0</td>\n",
       "      <td>2.48694</td>\n",
       "      <td>0.509378</td>\n",
       "      <td>1.0</td>\n",
       "      <td>1.0</td>\n",
       "      <td>0.0</td>\n",
       "      <td>0.0</td>\n",
       "    </tr>\n",
       "  </tbody>\n",
       "</table>\n",
       "</div>"
      ],
      "text/plain": [
       "   index  time    A         Y         U   L1   L2  A_1  A_2       Y_1  \\\n",
       "1    1.0   0.0  0.0  0.490524  0.846235  1.0  0.0  0.0  0.0       NaN   \n",
       "2    1.0   1.0  0.0  2.862000  0.846235  1.0  0.0  0.0  0.0  0.490524   \n",
       "3    1.0   2.0  0.0  0.509378  0.846235  1.0  0.0  0.0  0.0     2.862   \n",
       "4    1.0   3.0  0.0  2.486942  0.846235  1.0  0.0  0.0  0.0  0.509378   \n",
       "5    1.0   4.0  0.0  0.282136  0.846235  1.0  0.0  0.0  0.0   2.48694   \n",
       "\n",
       "        Y_2  L1_1  L1_2  L2_1  L2_2  \n",
       "1       NaN   1.0   1.0   0.0   0.0  \n",
       "2       NaN   1.0   NaN   0.0   NaN  \n",
       "3  0.490524   1.0   1.0   0.0   0.0  \n",
       "4     2.862   1.0   1.0   0.0   0.0  \n",
       "5  0.509378   1.0   1.0   0.0   0.0  "
      ]
     },
     "execution_count": 6,
     "metadata": {},
     "output_type": "execute_result"
    }
   ],
   "source": [
    "# df = csv.reader(open(\"Sim_Data.csv\"))\n",
    "df.head()"
   ]
  },
  {
   "cell_type": "code",
   "execution_count": 20,
   "metadata": {
    "collapsed": false
   },
   "outputs": [
    {
     "ename": "ValueError",
     "evalue": "cannot set a row with mismatched columns",
     "output_type": "error",
     "traceback": [
      "\u001b[0;31m---------------------------------------------------------------------------\u001b[0m",
      "\u001b[0;31mValueError\u001b[0m                                Traceback (most recent call last)",
      "\u001b[0;32m<ipython-input-20-b4adfee533de>\u001b[0m in \u001b[0;36m<module>\u001b[0;34m()\u001b[0m\n\u001b[1;32m      4\u001b[0m     \u001b[0mtemp_df\u001b[0m \u001b[0;34m=\u001b[0m \u001b[0mdf\u001b[0m\u001b[0;34m[\u001b[0m\u001b[0mdf\u001b[0m\u001b[0;34m.\u001b[0m\u001b[0mtime\u001b[0m \u001b[0;34m==\u001b[0m \u001b[0mii\u001b[0m\u001b[0;34m]\u001b[0m\u001b[0;34m\u001b[0m\u001b[0m\n\u001b[1;32m      5\u001b[0m     \u001b[0mY_model\u001b[0m \u001b[0;34m=\u001b[0m \u001b[0msmf\u001b[0m\u001b[0;34m.\u001b[0m\u001b[0mols\u001b[0m\u001b[0;34m(\u001b[0m\u001b[0;34m'Y ~ A + L1 + L2 + A_1 + A_2 + Y.shift(1) + Y.shift(2) + L1_1 + L1_2 + L2_1 + L2_2'\u001b[0m\u001b[0;34m,\u001b[0m \u001b[0mdata\u001b[0m\u001b[0;34m=\u001b[0m\u001b[0mtemp_df\u001b[0m\u001b[0;34m)\u001b[0m\u001b[0;34m.\u001b[0m\u001b[0mfit\u001b[0m\u001b[0;34m(\u001b[0m\u001b[0;34m)\u001b[0m\u001b[0;34m\u001b[0m\u001b[0m\n\u001b[0;32m----> 6\u001b[0;31m     \u001b[0mY_model_df\u001b[0m\u001b[0;34m.\u001b[0m\u001b[0mloc\u001b[0m\u001b[0;34m[\u001b[0m\u001b[0mlen\u001b[0m\u001b[0;34m(\u001b[0m\u001b[0mY_model_df\u001b[0m\u001b[0;34m)\u001b[0m\u001b[0;34m+\u001b[0m\u001b[0;36m1\u001b[0m\u001b[0;34m]\u001b[0m \u001b[0;34m=\u001b[0m \u001b[0;34m[\u001b[0m\u001b[0mii\u001b[0m\u001b[0;34m]\u001b[0m \u001b[0;34m+\u001b[0m \u001b[0;34m[\u001b[0m\u001b[0mY_model\u001b[0m\u001b[0;34m.\u001b[0m\u001b[0mparams\u001b[0m\u001b[0;34m[\u001b[0m\u001b[0mi\u001b[0m\u001b[0;34m]\u001b[0m \u001b[0;32mfor\u001b[0m \u001b[0mi\u001b[0m \u001b[0;32min\u001b[0m \u001b[0mrange\u001b[0m\u001b[0;34m(\u001b[0m\u001b[0;36m0\u001b[0m\u001b[0;34m,\u001b[0m\u001b[0;36m12\u001b[0m\u001b[0;34m)\u001b[0m\u001b[0;34m]\u001b[0m\u001b[0;34m\u001b[0m\u001b[0m\n\u001b[0m",
      "\u001b[0;32m/Users/morganfbreitmeyer/anaconda/envs/py3k/lib/python3.5/site-packages/pandas/core/indexing.py\u001b[0m in \u001b[0;36m__setitem__\u001b[0;34m(self, key, value)\u001b[0m\n\u001b[1;32m    130\u001b[0m             \u001b[0mkey\u001b[0m \u001b[0;34m=\u001b[0m \u001b[0mcom\u001b[0m\u001b[0;34m.\u001b[0m\u001b[0m_apply_if_callable\u001b[0m\u001b[0;34m(\u001b[0m\u001b[0mkey\u001b[0m\u001b[0;34m,\u001b[0m \u001b[0mself\u001b[0m\u001b[0;34m.\u001b[0m\u001b[0mobj\u001b[0m\u001b[0;34m)\u001b[0m\u001b[0;34m\u001b[0m\u001b[0m\n\u001b[1;32m    131\u001b[0m         \u001b[0mindexer\u001b[0m \u001b[0;34m=\u001b[0m \u001b[0mself\u001b[0m\u001b[0;34m.\u001b[0m\u001b[0m_get_setitem_indexer\u001b[0m\u001b[0;34m(\u001b[0m\u001b[0mkey\u001b[0m\u001b[0;34m)\u001b[0m\u001b[0;34m\u001b[0m\u001b[0m\n\u001b[0;32m--> 132\u001b[0;31m         \u001b[0mself\u001b[0m\u001b[0;34m.\u001b[0m\u001b[0m_setitem_with_indexer\u001b[0m\u001b[0;34m(\u001b[0m\u001b[0mindexer\u001b[0m\u001b[0;34m,\u001b[0m \u001b[0mvalue\u001b[0m\u001b[0;34m)\u001b[0m\u001b[0;34m\u001b[0m\u001b[0m\n\u001b[0m\u001b[1;32m    133\u001b[0m \u001b[0;34m\u001b[0m\u001b[0m\n\u001b[1;32m    134\u001b[0m     \u001b[0;32mdef\u001b[0m \u001b[0m_has_valid_type\u001b[0m\u001b[0;34m(\u001b[0m\u001b[0mself\u001b[0m\u001b[0;34m,\u001b[0m \u001b[0mk\u001b[0m\u001b[0;34m,\u001b[0m \u001b[0maxis\u001b[0m\u001b[0;34m)\u001b[0m\u001b[0;34m:\u001b[0m\u001b[0;34m\u001b[0m\u001b[0m\n",
      "\u001b[0;32m/Users/morganfbreitmeyer/anaconda/envs/py3k/lib/python3.5/site-packages/pandas/core/indexing.py\u001b[0m in \u001b[0;36m_setitem_with_indexer\u001b[0;34m(self, indexer, value)\u001b[0m\n\u001b[1;32m    365\u001b[0m                         \u001b[0;32mif\u001b[0m \u001b[0mis_list_like_indexer\u001b[0m\u001b[0;34m(\u001b[0m\u001b[0mvalue\u001b[0m\u001b[0;34m)\u001b[0m\u001b[0;34m:\u001b[0m\u001b[0;34m\u001b[0m\u001b[0m\n\u001b[1;32m    366\u001b[0m                             \u001b[0;32mif\u001b[0m \u001b[0mlen\u001b[0m\u001b[0;34m(\u001b[0m\u001b[0mvalue\u001b[0m\u001b[0;34m)\u001b[0m \u001b[0;34m!=\u001b[0m \u001b[0mlen\u001b[0m\u001b[0;34m(\u001b[0m\u001b[0mself\u001b[0m\u001b[0;34m.\u001b[0m\u001b[0mobj\u001b[0m\u001b[0;34m.\u001b[0m\u001b[0mcolumns\u001b[0m\u001b[0;34m)\u001b[0m\u001b[0;34m:\u001b[0m\u001b[0;34m\u001b[0m\u001b[0m\n\u001b[0;32m--> 367\u001b[0;31m                                 raise ValueError(\"cannot set a row with \"\n\u001b[0m\u001b[1;32m    368\u001b[0m                                                  \"mismatched columns\")\n\u001b[1;32m    369\u001b[0m \u001b[0;34m\u001b[0m\u001b[0m\n",
      "\u001b[0;31mValueError\u001b[0m: cannot set a row with mismatched columns"
     ]
    }
   ],
   "source": [
    "Y_model_df = pd.DataFrame(columns = [\"int\", \"A\", \"L1\", \"L2\", \"A_1\", \"A_2\", \"Y_1\", \"Y_2\", \"L1_1\", \"L1_2\", \"L2_1\", \"L2_2\"])\n",
    "## creating our models \n",
    "for ii in range(0, time+1): \n",
    "    temp_df = df[df.time == ii]\n",
    "    Y_model = smf.ols('Y ~ A + L1 + L2 + A_1 + A_2 + Y.shift(1) + Y.shift(2) + L1_1 + L1_2 + L2_1 + L2_2', data=temp_df).fit()\n",
    "    Y_model_df.loc[len(Y_model_df)+1] = [ii] + [Y_model.params[i] for i in range(0,12)]"
   ]
  },
  {
   "cell_type": "code",
   "execution_count": 21,
   "metadata": {
    "collapsed": false
   },
   "outputs": [
    {
     "data": {
      "text/plain": [
       "[0,\n",
       " 0.068748049928044508,\n",
       " 1.0584304065340755,\n",
       " 0.37223791156898395,\n",
       " 0.29547604508801839,\n",
       " -1.4130701670430043e-17,\n",
       " 0.0,\n",
       " 0.082142910207975123,\n",
       " -0.057527624403048858,\n",
       " 0.37223791156898511,\n",
       " 0.37223791156898511,\n",
       " 0.295476045088018,\n",
       " 0.295476045088018]"
      ]
     },
     "execution_count": 21,
     "metadata": {},
     "output_type": "execute_result"
    }
   ],
   "source": [
    "[ii] + [Y_model.params[i] for i in range(0,12)]"
   ]
  },
  {
   "cell_type": "code",
   "execution_count": 24,
   "metadata": {
    "collapsed": false
   },
   "outputs": [
    {
     "data": {
      "text/plain": [
       "Intercept     6.874805e-02\n",
       "A             1.058430e+00\n",
       "L1            3.722379e-01\n",
       "L2            2.954760e-01\n",
       "A_1          -1.413070e-17\n",
       "A_2           0.000000e+00\n",
       "Y.shift(1)    8.214291e-02\n",
       "Y.shift(2)   -5.752762e-02\n",
       "L1_1          3.722379e-01\n",
       "L1_2          3.722379e-01\n",
       "L2_1          2.954760e-01\n",
       "L2_2          2.954760e-01\n",
       "dtype: float64"
      ]
     },
     "execution_count": 24,
     "metadata": {},
     "output_type": "execute_result"
    }
   ],
   "source": [
    "Y_model.params"
   ]
  },
  {
   "cell_type": "code",
   "execution_count": null,
   "metadata": {
    "collapsed": true
   },
   "outputs": [],
   "source": []
  }
 ],
 "metadata": {
  "anaconda-cloud": {},
  "kernelspec": {
   "display_name": "Python [default]",
   "language": "python",
   "name": "python3"
  },
  "language_info": {
   "codemirror_mode": {
    "name": "ipython",
    "version": 3
   },
   "file_extension": ".py",
   "mimetype": "text/x-python",
   "name": "python",
   "nbconvert_exporter": "python",
   "pygments_lexer": "ipython3",
   "version": "3.5.2"
  }
 },
 "nbformat": 4,
 "nbformat_minor": 1
}
